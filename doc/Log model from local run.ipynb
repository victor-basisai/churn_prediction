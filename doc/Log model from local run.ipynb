{
 "cells": [
  {
   "cell_type": "code",
   "execution_count": 16,
   "metadata": {},
   "outputs": [
    {
     "name": "stdout",
     "output_type": "stream",
     "text": [
      "The autoreload extension is already loaded. To reload it, use:\n",
      "  %reload_ext autoreload\n"
     ]
    }
   ],
   "source": [
    "import bdrk\n",
    "import lightgbm as lgb\n",
    "import logging\n",
    "import numpy as np\n",
    "import os\n",
    "import pandas as pd\n",
    "import pickle\n",
    "import sys\n",
    "\n",
    "from bedrock_client.bedrock.analyzer.model_analyzer import ModelAnalyzer\n",
    "from bedrock_client.bedrock.analyzer import ModelTypes\n",
    "from sklearn import metrics\n",
    "from utils import lgb_roc_auc_score, print_results\n",
    "\n",
    "%matplotlib inline\n",
    "%load_ext autoreload\n",
    "%autoreload 2\n",
    "\n",
    "\n",
    "# You can customize the logging logic here\n",
    "_logger = logging.getLogger(bdrk.utils.vars.Constants.MAIN_LOG)\n",
    "_logger.setLevel(logging.INFO)\n",
    "if not _logger.handlers:\n",
    "    _logger.addHandler(logging.StreamHandler(stream=sys.stdout))\n",
    "    \n",
    "# Visit https://bedrock.basis-ai.com/setting/token/ to get the personal access token.\n",
    "with open('bdrk_token') as f:\n",
    "    token = f.read().strip(\"\\n\")\n",
    "\n",
    "os.environ[\"BEDROCK_API_TOKEN\"] = token\n"
   ]
  },
  {
   "cell_type": "markdown",
   "metadata": {},
   "source": [
    "# Data processing"
   ]
  },
  {
   "cell_type": "code",
   "execution_count": 17,
   "metadata": {},
   "outputs": [],
   "source": [
    "# Subscribers data\n",
    "subscribers = pd.read_parquet(\"data/subscribers.gz.parquet\", engine=\"fastparquet\")\n",
    "for col in [\"Churn\", \"Intl_Plan\", \"VMail_Plan\"]:\n",
    "    subscribers[col] = (subscribers[col] == \"yes\").astype(int)\n",
    "\n",
    "# Calls data\n",
    "all_calls = pd.read_parquet(\"data/all_calls.gz.parquet\", engine=\"fastparquet\")\n",
    "all_calls = all_calls.groupby([\"Call_type\", \"User_id\"]).agg([\"sum\", \"count\"]).reset_index()\n",
    "all_calls.columns = [\"Call_type\", \"User_id\", \"Mins\", \"Calls\"]\n",
    "all_calls = all_calls.pivot(index=\"User_id\", columns=\"Call_type\", values=[\"Mins\", \"Calls\"]).reset_index()\n",
    "all_calls.columns = [\n",
    "    \"User_id\", \"Day_Mins\", \"Eve_Mins\", \"Intl_Mins\", \"Night_Mins\",\n",
    "    \"Day_Calls\", \"Eve_Calls\", \"Intl_Calls\", \"Night_Calls\"]\n",
    "\n",
    "# Joining\n",
    "model_data = pd.merge(subscribers, all_calls, on=[\"User_id\"], how=\"left\")\n",
    "model_data = model_data.fillna(0)\n",
    "\n",
    "# Categorical encoding\n",
    "model_data = pd.get_dummies(model_data, columns=[\"Area_Code\", \"State\"])"
   ]
  },
  {
   "cell_type": "code",
   "execution_count": 18,
   "metadata": {},
   "outputs": [],
   "source": [
    "FEATURE_COLS = [\n",
    "    \"Intl_Plan\", \"VMail_Plan\", \"VMail_Message\", \"CustServ_Calls\",\n",
    "    \"Day_Mins\", \"Day_Calls\", \"Eve_Mins\", \"Eve_Calls\", \n",
    "    \"Night_Mins\", \"Night_Calls\", \"Intl_Mins\", \"Intl_Calls\",\n",
    "    \"Area_Code_408\", \"Area_Code_415\", \"Area_Code_510\",\n",
    "    \"State_AK\", \"State_AL\", \"State_AR\", \"State_AZ\", \"State_CA\", \"State_CO\",\n",
    "    \"State_CT\", \"State_DC\", \"State_DE\", \"State_FL\", \"State_GA\", \"State_HI\",\n",
    "    \"State_IA\", \"State_ID\", \"State_IL\", \"State_IN\", \"State_KS\", \"State_KY\",\n",
    "    \"State_LA\", \"State_MA\", \"State_MD\", \"State_ME\", \"State_MI\", \"State_MN\",\n",
    "    \"State_MO\", \"State_MS\", \"State_MT\", \"State_NC\", \"State_ND\", \"State_NE\",\n",
    "    \"State_NH\", \"State_NJ\", \"State_NM\", \"State_NV\", \"State_NY\", \"State_OH\",\n",
    "    \"State_OK\", \"State_OR\", \"State_PA\", \"State_RI\", \"State_SC\", \"State_SD\",\n",
    "    \"State_TN\", \"State_TX\", \"State_UT\", \"State_VA\", \"State_VT\", \"State_WA\",\n",
    "    \"State_WI\", \"State_WV\", \"State_WY\",\n",
    "]\n",
    "\n",
    "TARGET_COL = \"Churn\""
   ]
  },
  {
   "cell_type": "markdown",
   "metadata": {},
   "source": [
    "## Train/test split"
   ]
  },
  {
   "cell_type": "code",
   "execution_count": 19,
   "metadata": {},
   "outputs": [],
   "source": [
    "train_data, eval_data, test_data = np.split(\n",
    "    model_data.sample(frac=1, random_state=1729),\n",
    "    [int(0.7 * len(model_data)), int(0.9 * len(model_data))])\n",
    "\n",
    "X_train = train_data[FEATURE_COLS]\n",
    "y_train = train_data[TARGET_COL]\n",
    "\n",
    "X_val = eval_data[FEATURE_COLS]\n",
    "y_val = eval_data[TARGET_COL]\n",
    "\n",
    "X_test = test_data[FEATURE_COLS]\n",
    "y_test = test_data[TARGET_COL]"
   ]
  },
  {
   "cell_type": "markdown",
   "metadata": {},
   "source": [
    "# Training"
   ]
  },
  {
   "cell_type": "markdown",
   "metadata": {},
   "source": [
    "## Training parameter"
   ]
  },
  {
   "cell_type": "code",
   "execution_count": 20,
   "metadata": {},
   "outputs": [],
   "source": [
    "LR = 0.05\n",
    "NUM_LEAVES = 10\n",
    "N_ESTIMATORS = 100\n",
    "OUTPUT_MODEL = \"data/lgb_model.pkl\""
   ]
  },
  {
   "cell_type": "markdown",
   "metadata": {},
   "source": [
    "## Training code"
   ]
  },
  {
   "cell_type": "code",
   "execution_count": 21,
   "metadata": {},
   "outputs": [
    {
     "name": "stdout",
     "output_type": "stream",
     "text": [
      "BedrockClient initialized on project=nglinh-churn-prediction\n"
     ]
    },
    {
     "name": "stderr",
     "output_type": "stream",
     "text": [
      "INFO:bdrk:BedrockClient initialized on project=nglinh-churn-prediction\n"
     ]
    },
    {
     "name": "stdout",
     "output_type": "stream",
     "text": [
      "Run started: nglinh-new-pipeline-run16\n"
     ]
    },
    {
     "name": "stderr",
     "output_type": "stream",
     "text": [
      "INFO:bdrk:Run started: nglinh-new-pipeline-run16\n"
     ]
    },
    {
     "name": "stdout",
     "output_type": "stream",
     "text": [
      "Params updated: {'LR': '0.05', 'NUM_LEAVES': '10', 'N_ESTIMATORS': '100'}\n"
     ]
    },
    {
     "name": "stderr",
     "output_type": "stream",
     "text": [
      "INFO:bdrk:Params updated: {'LR': '0.05', 'NUM_LEAVES': '10', 'N_ESTIMATORS': '100'}\n"
     ]
    },
    {
     "name": "stdout",
     "output_type": "stream",
     "text": [
      "New metrics logged: with x=0, metrics={'Feature Count': 66}\n"
     ]
    },
    {
     "name": "stderr",
     "output_type": "stream",
     "text": [
      "INFO:bdrk:New metrics logged: with x=0, metrics={'Feature Count': 66}\n"
     ]
    },
    {
     "name": "stdout",
     "output_type": "stream",
     "text": [
      "New metrics logged: with x=0, metrics={'Training binary_logloss': 0.4241160899148541, 'Training roc_auc': 0.8034581425768477}\n"
     ]
    },
    {
     "name": "stderr",
     "output_type": "stream",
     "text": [
      "INFO:bdrk:New metrics logged: with x=0, metrics={'Training binary_logloss': 0.4241160899148541, 'Training roc_auc': 0.8034581425768477}\n"
     ]
    },
    {
     "name": "stdout",
     "output_type": "stream",
     "text": [
      "New metrics logged: with x=1, metrics={'Training binary_logloss': 0.40134724066017885, 'Training roc_auc': 0.8678711576193591}\n"
     ]
    },
    {
     "name": "stderr",
     "output_type": "stream",
     "text": [
      "INFO:bdrk:New metrics logged: with x=1, metrics={'Training binary_logloss': 0.40134724066017885, 'Training roc_auc': 0.8678711576193591}\n"
     ]
    },
    {
     "name": "stdout",
     "output_type": "stream",
     "text": [
      "New metrics logged: with x=2, metrics={'Training binary_logloss': 0.3834933178683169, 'Training roc_auc': 0.8681654676258993}\n"
     ]
    },
    {
     "name": "stderr",
     "output_type": "stream",
     "text": [
      "INFO:bdrk:New metrics logged: with x=2, metrics={'Training binary_logloss': 0.3834933178683169, 'Training roc_auc': 0.8681654676258993}\n"
     ]
    },
    {
     "name": "stdout",
     "output_type": "stream",
     "text": [
      "New metrics logged: with x=3, metrics={'Training binary_logloss': 0.36875518657103057, 'Training roc_auc': 0.8684025506867233}\n"
     ]
    },
    {
     "name": "stderr",
     "output_type": "stream",
     "text": [
      "INFO:bdrk:New metrics logged: with x=3, metrics={'Training binary_logloss': 0.36875518657103057, 'Training roc_auc': 0.8684025506867233}\n"
     ]
    },
    {
     "name": "stdout",
     "output_type": "stream",
     "text": [
      "New metrics logged: with x=4, metrics={'Training binary_logloss': 0.3565575099763757, 'Training roc_auc': 0.8681736429038588}\n"
     ]
    },
    {
     "name": "stderr",
     "output_type": "stream",
     "text": [
      "INFO:bdrk:New metrics logged: with x=4, metrics={'Training binary_logloss': 0.3565575099763757, 'Training roc_auc': 0.8681736429038588}\n"
     ]
    },
    {
     "name": "stdout",
     "output_type": "stream",
     "text": [
      "New metrics logged: with x=5, metrics={'Training binary_logloss': 0.345208944309578, 'Training roc_auc': 0.8692282537606278}\n"
     ]
    },
    {
     "name": "stderr",
     "output_type": "stream",
     "text": [
      "INFO:bdrk:New metrics logged: with x=5, metrics={'Training binary_logloss': 0.345208944309578, 'Training roc_auc': 0.8692282537606278}\n"
     ]
    },
    {
     "name": "stdout",
     "output_type": "stream",
     "text": [
      "New metrics logged: with x=6, metrics={'Training binary_logloss': 0.33591037231209747, 'Training roc_auc': 0.8691628515369523}\n"
     ]
    },
    {
     "name": "stderr",
     "output_type": "stream",
     "text": [
      "INFO:bdrk:New metrics logged: with x=6, metrics={'Training binary_logloss': 0.33591037231209747, 'Training roc_auc': 0.8691628515369523}\n"
     ]
    },
    {
     "name": "stdout",
     "output_type": "stream",
     "text": [
      "New metrics logged: with x=7, metrics={'Training binary_logloss': 0.32645803709822424, 'Training roc_auc': 0.8718279921517331}\n"
     ]
    },
    {
     "name": "stderr",
     "output_type": "stream",
     "text": [
      "INFO:bdrk:New metrics logged: with x=7, metrics={'Training binary_logloss': 0.32645803709822424, 'Training roc_auc': 0.8718279921517331}\n"
     ]
    },
    {
     "name": "stdout",
     "output_type": "stream",
     "text": [
      "New metrics logged: with x=8, metrics={'Training binary_logloss': 0.3189920201217658, 'Training roc_auc': 0.8723675604970569}\n"
     ]
    },
    {
     "name": "stderr",
     "output_type": "stream",
     "text": [
      "INFO:bdrk:New metrics logged: with x=8, metrics={'Training binary_logloss': 0.3189920201217658, 'Training roc_auc': 0.8723675604970569}\n"
     ]
    },
    {
     "name": "stdout",
     "output_type": "stream",
     "text": [
      "New metrics logged: with x=9, metrics={'Training binary_logloss': 0.31163066620699137, 'Training roc_auc': 0.8718933943754088}\n"
     ]
    },
    {
     "name": "stderr",
     "output_type": "stream",
     "text": [
      "INFO:bdrk:New metrics logged: with x=9, metrics={'Training binary_logloss': 0.31163066620699137, 'Training roc_auc': 0.8718933943754088}\n"
     ]
    },
    {
     "name": "stdout",
     "output_type": "stream",
     "text": [
      "New metrics logged: with x=10, metrics={'Training binary_logloss': 0.3050891795258238, 'Training roc_auc': 0.8730788096795292}\n"
     ]
    },
    {
     "name": "stderr",
     "output_type": "stream",
     "text": [
      "INFO:bdrk:New metrics logged: with x=10, metrics={'Training binary_logloss': 0.3050891795258238, 'Training roc_auc': 0.8730788096795292}\n"
     ]
    },
    {
     "name": "stdout",
     "output_type": "stream",
     "text": [
      "New metrics logged: with x=11, metrics={'Training binary_logloss': 0.29896935220596477, 'Training roc_auc': 0.8739045127534336}\n"
     ]
    },
    {
     "name": "stderr",
     "output_type": "stream",
     "text": [
      "INFO:bdrk:New metrics logged: with x=11, metrics={'Training binary_logloss': 0.29896935220596477, 'Training roc_auc': 0.8739045127534336}\n"
     ]
    },
    {
     "name": "stdout",
     "output_type": "stream",
     "text": [
      "New metrics logged: with x=12, metrics={'Training binary_logloss': 0.29351288750728527, 'Training roc_auc': 0.8735693263570962}\n"
     ]
    },
    {
     "name": "stderr",
     "output_type": "stream",
     "text": [
      "INFO:bdrk:New metrics logged: with x=12, metrics={'Training binary_logloss': 0.29351288750728527, 'Training roc_auc': 0.8735693263570962}\n"
     ]
    },
    {
     "name": "stdout",
     "output_type": "stream",
     "text": [
      "New metrics logged: with x=13, metrics={'Training binary_logloss': 0.28816371021471876, 'Training roc_auc': 0.8724738391105298}\n"
     ]
    },
    {
     "name": "stderr",
     "output_type": "stream",
     "text": [
      "INFO:bdrk:New metrics logged: with x=13, metrics={'Training binary_logloss': 0.28816371021471876, 'Training roc_auc': 0.8724738391105298}\n"
     ]
    },
    {
     "name": "stdout",
     "output_type": "stream",
     "text": [
      "New metrics logged: with x=14, metrics={'Training binary_logloss': 0.2831755364317565, 'Training roc_auc': 0.8732586657946371}\n"
     ]
    },
    {
     "name": "stderr",
     "output_type": "stream",
     "text": [
      "INFO:bdrk:New metrics logged: with x=14, metrics={'Training binary_logloss': 0.2831755364317565, 'Training roc_auc': 0.8732586657946371}\n"
     ]
    },
    {
     "name": "stdout",
     "output_type": "stream",
     "text": [
      "New metrics logged: with x=15, metrics={'Training binary_logloss': 0.27913258451177525, 'Training roc_auc': 0.8728989535644213}\n"
     ]
    },
    {
     "name": "stderr",
     "output_type": "stream",
     "text": [
      "INFO:bdrk:New metrics logged: with x=15, metrics={'Training binary_logloss': 0.27913258451177525, 'Training roc_auc': 0.8728989535644213}\n"
     ]
    },
    {
     "name": "stdout",
     "output_type": "stream",
     "text": [
      "New metrics logged: with x=16, metrics={'Training binary_logloss': 0.2751526466198836, 'Training roc_auc': 0.8738799869195553}\n"
     ]
    },
    {
     "name": "stderr",
     "output_type": "stream",
     "text": [
      "INFO:bdrk:New metrics logged: with x=16, metrics={'Training binary_logloss': 0.2751526466198836, 'Training roc_auc': 0.8738799869195553}\n"
     ]
    },
    {
     "name": "stdout",
     "output_type": "stream",
     "text": [
      "New metrics logged: with x=17, metrics={'Training binary_logloss': 0.2712833440359886, 'Training roc_auc': 0.87351209941138}\n"
     ]
    },
    {
     "name": "stderr",
     "output_type": "stream",
     "text": [
      "INFO:bdrk:New metrics logged: with x=17, metrics={'Training binary_logloss': 0.2712833440359886, 'Training roc_auc': 0.87351209941138}\n"
     ]
    },
    {
     "name": "stdout",
     "output_type": "stream",
     "text": [
      "New metrics logged: with x=18, metrics={'Training binary_logloss': 0.26764530981564055, 'Training roc_auc': 0.8713129496402878}\n"
     ]
    },
    {
     "name": "stderr",
     "output_type": "stream",
     "text": [
      "INFO:bdrk:New metrics logged: with x=18, metrics={'Training binary_logloss': 0.26764530981564055, 'Training roc_auc': 0.8713129496402878}\n"
     ]
    },
    {
     "name": "stdout",
     "output_type": "stream",
     "text": [
      "New metrics logged: with x=19, metrics={'Training binary_logloss': 0.2638782722638984, 'Training roc_auc': 0.8720405493786788}\n"
     ]
    },
    {
     "name": "stderr",
     "output_type": "stream",
     "text": [
      "INFO:bdrk:New metrics logged: with x=19, metrics={'Training binary_logloss': 0.2638782722638984, 'Training roc_auc': 0.8720405493786788}\n"
     ]
    },
    {
     "name": "stdout",
     "output_type": "stream",
     "text": [
      "New metrics logged: with x=20, metrics={'Training binary_logloss': 0.26088475416278206, 'Training roc_auc': 0.8718116415958143}\n"
     ]
    },
    {
     "name": "stderr",
     "output_type": "stream",
     "text": [
      "INFO:bdrk:New metrics logged: with x=20, metrics={'Training binary_logloss': 0.26088475416278206, 'Training roc_auc': 0.8718116415958143}\n"
     ]
    },
    {
     "name": "stdout",
     "output_type": "stream",
     "text": [
      "New metrics logged: with x=21, metrics={'Training binary_logloss': 0.25859162703461225, 'Training roc_auc': 0.8718933943754088}\n"
     ]
    },
    {
     "name": "stderr",
     "output_type": "stream",
     "text": [
      "INFO:bdrk:New metrics logged: with x=21, metrics={'Training binary_logloss': 0.25859162703461225, 'Training roc_auc': 0.8718933943754088}\n"
     ]
    },
    {
     "name": "stdout",
     "output_type": "stream",
     "text": [
      "New metrics logged: with x=22, metrics={'Training binary_logloss': 0.25592041535604365, 'Training roc_auc': 0.8720405493786789}\n"
     ]
    },
    {
     "name": "stderr",
     "output_type": "stream",
     "text": [
      "INFO:bdrk:New metrics logged: with x=22, metrics={'Training binary_logloss': 0.25592041535604365, 'Training roc_auc': 0.8720405493786789}\n"
     ]
    },
    {
     "name": "stdout",
     "output_type": "stream",
     "text": [
      "New metrics logged: with x=23, metrics={'Training binary_logloss': 0.25348851472483, 'Training roc_auc': 0.870863309352518}\n"
     ]
    },
    {
     "name": "stderr",
     "output_type": "stream",
     "text": [
      "INFO:bdrk:New metrics logged: with x=23, metrics={'Training binary_logloss': 0.25348851472483, 'Training roc_auc': 0.870863309352518}\n"
     ]
    },
    {
     "name": "stdout",
     "output_type": "stream",
     "text": [
      "New metrics logged: with x=24, metrics={'Training binary_logloss': 0.25145582360015567, 'Training roc_auc': 0.8707897318508829}\n"
     ]
    },
    {
     "name": "stderr",
     "output_type": "stream",
     "text": [
      "INFO:bdrk:New metrics logged: with x=24, metrics={'Training binary_logloss': 0.25145582360015567, 'Training roc_auc': 0.8707897318508829}\n"
     ]
    },
    {
     "name": "stdout",
     "output_type": "stream",
     "text": [
      "New metrics logged: with x=25, metrics={'Training binary_logloss': 0.24904519157232843, 'Training roc_auc': 0.8707897318508829}\n"
     ]
    },
    {
     "name": "stderr",
     "output_type": "stream",
     "text": [
      "INFO:bdrk:New metrics logged: with x=25, metrics={'Training binary_logloss': 0.24904519157232843, 'Training roc_auc': 0.8707897318508829}\n"
     ]
    },
    {
     "name": "stdout",
     "output_type": "stream",
     "text": [
      "New metrics logged: with x=26, metrics={'Training binary_logloss': 0.24701013791427798, 'Training roc_auc': 0.8707243296272074}\n"
     ]
    },
    {
     "name": "stderr",
     "output_type": "stream",
     "text": [
      "INFO:bdrk:New metrics logged: with x=26, metrics={'Training binary_logloss': 0.24701013791427798, 'Training roc_auc': 0.8707243296272074}\n"
     ]
    },
    {
     "name": "stdout",
     "output_type": "stream",
     "text": [
      "New metrics logged: with x=27, metrics={'Training binary_logloss': 0.244593301306355, 'Training roc_auc': 0.8704790712884237}\n"
     ]
    },
    {
     "name": "stderr",
     "output_type": "stream",
     "text": [
      "INFO:bdrk:New metrics logged: with x=27, metrics={'Training binary_logloss': 0.244593301306355, 'Training roc_auc': 0.8704790712884237}\n"
     ]
    },
    {
     "name": "stdout",
     "output_type": "stream",
     "text": [
      "New metrics logged: with x=28, metrics={'Training binary_logloss': 0.24279480000137996, 'Training roc_auc': 0.8717625899280576}\n"
     ]
    },
    {
     "name": "stderr",
     "output_type": "stream",
     "text": [
      "INFO:bdrk:New metrics logged: with x=28, metrics={'Training binary_logloss': 0.24279480000137996, 'Training roc_auc': 0.8717625899280576}\n"
     ]
    },
    {
     "name": "stdout",
     "output_type": "stream",
     "text": [
      "New metrics logged: with x=29, metrics={'Training binary_logloss': 0.2409662803823312, 'Training roc_auc': 0.8724002616088946}\n"
     ]
    },
    {
     "name": "stderr",
     "output_type": "stream",
     "text": [
      "INFO:bdrk:New metrics logged: with x=29, metrics={'Training binary_logloss': 0.2409662803823312, 'Training roc_auc': 0.8724002616088946}\n"
     ]
    },
    {
     "name": "stdout",
     "output_type": "stream",
     "text": [
      "New metrics logged: with x=30, metrics={'Training binary_logloss': 0.23939153034362998, 'Training roc_auc': 0.8744277305428384}\n"
     ]
    },
    {
     "name": "stderr",
     "output_type": "stream",
     "text": [
      "INFO:bdrk:New metrics logged: with x=30, metrics={'Training binary_logloss': 0.23939153034362998, 'Training roc_auc': 0.8744277305428384}\n"
     ]
    },
    {
     "name": "stdout",
     "output_type": "stream",
     "text": [
      "New metrics logged: with x=31, metrics={'Training binary_logloss': 0.23818806861201675, 'Training roc_auc': 0.8746729888816219}\n"
     ]
    },
    {
     "name": "stderr",
     "output_type": "stream",
     "text": [
      "INFO:bdrk:New metrics logged: with x=31, metrics={'Training binary_logloss': 0.23818806861201675, 'Training roc_auc': 0.8746729888816219}\n"
     ]
    },
    {
     "name": "stdout",
     "output_type": "stream",
     "text": [
      "New metrics logged: with x=32, metrics={'Training binary_logloss': 0.23666491886446162, 'Training roc_auc': 0.8782210595160236}\n"
     ]
    },
    {
     "name": "stderr",
     "output_type": "stream",
     "text": [
      "INFO:bdrk:New metrics logged: with x=32, metrics={'Training binary_logloss': 0.23666491886446162, 'Training roc_auc': 0.8782210595160236}\n"
     ]
    },
    {
     "name": "stdout",
     "output_type": "stream",
     "text": [
      "New metrics logged: with x=33, metrics={'Training binary_logloss': 0.23526526453708707, 'Training roc_auc': 0.8749672988881623}\n"
     ]
    },
    {
     "name": "stderr",
     "output_type": "stream",
     "text": [
      "INFO:bdrk:New metrics logged: with x=33, metrics={'Training binary_logloss': 0.23526526453708707, 'Training roc_auc': 0.8749672988881623}\n"
     ]
    },
    {
     "name": "stdout",
     "output_type": "stream",
     "text": [
      "New metrics logged: with x=34, metrics={'Training binary_logloss': 0.23448545289247574, 'Training roc_auc': 0.8749182472204055}\n"
     ]
    },
    {
     "name": "stderr",
     "output_type": "stream",
     "text": [
      "INFO:bdrk:New metrics logged: with x=34, metrics={'Training binary_logloss': 0.23448545289247574, 'Training roc_auc': 0.8749182472204055}\n"
     ]
    },
    {
     "name": "stdout",
     "output_type": "stream",
     "text": [
      "New metrics logged: with x=35, metrics={'Training binary_logloss': 0.2334509976896336, 'Training roc_auc': 0.8736429038587311}\n"
     ]
    },
    {
     "name": "stderr",
     "output_type": "stream",
     "text": [
      "INFO:bdrk:New metrics logged: with x=35, metrics={'Training binary_logloss': 0.2334509976896336, 'Training roc_auc': 0.8736429038587311}\n"
     ]
    },
    {
     "name": "stdout",
     "output_type": "stream",
     "text": [
      "New metrics logged: with x=36, metrics={'Training binary_logloss': 0.23226330339837553, 'Training roc_auc': 0.8770928711576194}\n"
     ]
    },
    {
     "name": "stderr",
     "output_type": "stream",
     "text": [
      "INFO:bdrk:New metrics logged: with x=36, metrics={'Training binary_logloss': 0.23226330339837553, 'Training roc_auc': 0.8770928711576194}\n"
     ]
    },
    {
     "name": "stdout",
     "output_type": "stream",
     "text": [
      "New metrics logged: with x=37, metrics={'Training binary_logloss': 0.23127686373461964, 'Training roc_auc': 0.8751308044473513}\n"
     ]
    },
    {
     "name": "stderr",
     "output_type": "stream",
     "text": [
      "INFO:bdrk:New metrics logged: with x=37, metrics={'Training binary_logloss': 0.23127686373461964, 'Training roc_auc': 0.8751308044473513}\n"
     ]
    },
    {
     "name": "stdout",
     "output_type": "stream",
     "text": [
      "New metrics logged: with x=38, metrics={'Training binary_logloss': 0.23047876323863967, 'Training roc_auc': 0.8752207325049052}\n"
     ]
    },
    {
     "name": "stderr",
     "output_type": "stream",
     "text": [
      "INFO:bdrk:New metrics logged: with x=38, metrics={'Training binary_logloss': 0.23047876323863967, 'Training roc_auc': 0.8752207325049052}\n"
     ]
    },
    {
     "name": "stdout",
     "output_type": "stream",
     "text": [
      "New metrics logged: with x=39, metrics={'Training binary_logloss': 0.22908545174431155, 'Training roc_auc': 0.8754332897318509}\n"
     ]
    },
    {
     "name": "stderr",
     "output_type": "stream",
     "text": [
      "INFO:bdrk:New metrics logged: with x=39, metrics={'Training binary_logloss': 0.22908545174431155, 'Training roc_auc': 0.8754332897318509}\n"
     ]
    },
    {
     "name": "stdout",
     "output_type": "stream",
     "text": [
      "New metrics logged: with x=40, metrics={'Training binary_logloss': 0.2286122205010589, 'Training roc_auc': 0.8754741661216482}\n"
     ]
    },
    {
     "name": "stderr",
     "output_type": "stream",
     "text": [
      "INFO:bdrk:New metrics logged: with x=40, metrics={'Training binary_logloss': 0.2286122205010589, 'Training roc_auc': 0.8754741661216482}\n"
     ]
    },
    {
     "name": "stdout",
     "output_type": "stream",
     "text": [
      "New metrics logged: with x=41, metrics={'Training binary_logloss': 0.22803913179474103, 'Training roc_auc': 0.8804283845650752}\n"
     ]
    },
    {
     "name": "stderr",
     "output_type": "stream",
     "text": [
      "INFO:bdrk:New metrics logged: with x=41, metrics={'Training binary_logloss': 0.22803913179474103, 'Training roc_auc': 0.8804283845650752}\n"
     ]
    },
    {
     "name": "stdout",
     "output_type": "stream",
     "text": [
      "New metrics logged: with x=42, metrics={'Training binary_logloss': 0.22669480033519485, 'Training roc_auc': 0.8808616742969261}\n"
     ]
    },
    {
     "name": "stderr",
     "output_type": "stream",
     "text": [
      "INFO:bdrk:New metrics logged: with x=42, metrics={'Training binary_logloss': 0.22669480033519485, 'Training roc_auc': 0.8808616742969261}\n"
     ]
    },
    {
     "name": "stdout",
     "output_type": "stream",
     "text": [
      "New metrics logged: with x=43, metrics={'Training binary_logloss': 0.22578640787436377, 'Training roc_auc': 0.8832733812949639}\n"
     ]
    },
    {
     "name": "stderr",
     "output_type": "stream",
     "text": [
      "INFO:bdrk:New metrics logged: with x=43, metrics={'Training binary_logloss': 0.22578640787436377, 'Training roc_auc': 0.8832733812949639}\n"
     ]
    },
    {
     "name": "stdout",
     "output_type": "stream",
     "text": [
      "New metrics logged: with x=44, metrics={'Training binary_logloss': 0.22541565527687726, 'Training roc_auc': 0.8827828646173971}\n"
     ]
    },
    {
     "name": "stderr",
     "output_type": "stream",
     "text": [
      "INFO:bdrk:New metrics logged: with x=44, metrics={'Training binary_logloss': 0.22541565527687726, 'Training roc_auc': 0.8827828646173971}\n"
     ]
    },
    {
     "name": "stdout",
     "output_type": "stream",
     "text": [
      "New metrics logged: with x=45, metrics={'Training binary_logloss': 0.22423876283428643, 'Training roc_auc': 0.8830281229561805}\n"
     ]
    },
    {
     "name": "stderr",
     "output_type": "stream",
     "text": [
      "INFO:bdrk:New metrics logged: with x=45, metrics={'Training binary_logloss': 0.22423876283428643, 'Training roc_auc': 0.8830281229561805}\n"
     ]
    },
    {
     "name": "stdout",
     "output_type": "stream",
     "text": [
      "New metrics logged: with x=46, metrics={'Training binary_logloss': 0.2234958162806838, 'Training roc_auc': 0.882946370176586}\n"
     ]
    },
    {
     "name": "stderr",
     "output_type": "stream",
     "text": [
      "INFO:bdrk:New metrics logged: with x=46, metrics={'Training binary_logloss': 0.2234958162806838, 'Training roc_auc': 0.882946370176586}\n"
     ]
    },
    {
     "name": "stdout",
     "output_type": "stream",
     "text": [
      "New metrics logged: with x=47, metrics={'Training binary_logloss': 0.2228885841708634, 'Training roc_auc': 0.8830199476782211}\n"
     ]
    },
    {
     "name": "stderr",
     "output_type": "stream",
     "text": [
      "INFO:bdrk:New metrics logged: with x=47, metrics={'Training binary_logloss': 0.2228885841708634, 'Training roc_auc': 0.8830199476782211}\n"
     ]
    },
    {
     "name": "stdout",
     "output_type": "stream",
     "text": [
      "New metrics logged: with x=48, metrics={'Training binary_logloss': 0.22242939120531918, 'Training roc_auc': 0.8827174623937213}\n"
     ]
    },
    {
     "name": "stderr",
     "output_type": "stream",
     "text": [
      "INFO:bdrk:New metrics logged: with x=48, metrics={'Training binary_logloss': 0.22242939120531918, 'Training roc_auc': 0.8827174623937213}\n"
     ]
    },
    {
     "name": "stdout",
     "output_type": "stream",
     "text": [
      "New metrics logged: with x=49, metrics={'Training binary_logloss': 0.22165958155999108, 'Training roc_auc': 0.8807472204054938}\n"
     ]
    },
    {
     "name": "stderr",
     "output_type": "stream",
     "text": [
      "INFO:bdrk:New metrics logged: with x=49, metrics={'Training binary_logloss': 0.22165958155999108, 'Training roc_auc': 0.8807472204054938}\n"
     ]
    },
    {
     "name": "stdout",
     "output_type": "stream",
     "text": [
      "New metrics logged: with x=50, metrics={'Training binary_logloss': 0.22170954331524015, 'Training roc_auc': 0.8772727272727272}\n"
     ]
    },
    {
     "name": "stderr",
     "output_type": "stream",
     "text": [
      "INFO:bdrk:New metrics logged: with x=50, metrics={'Training binary_logloss': 0.22170954331524015, 'Training roc_auc': 0.8772727272727272}\n"
     ]
    },
    {
     "name": "stdout",
     "output_type": "stream",
     "text": [
      "New metrics logged: with x=51, metrics={'Training binary_logloss': 0.22059513035479064, 'Training roc_auc': 0.8774280575539569}\n"
     ]
    },
    {
     "name": "stderr",
     "output_type": "stream",
     "text": [
      "INFO:bdrk:New metrics logged: with x=51, metrics={'Training binary_logloss': 0.22059513035479064, 'Training roc_auc': 0.8774280575539569}\n"
     ]
    },
    {
     "name": "stdout",
     "output_type": "stream",
     "text": [
      "New metrics logged: with x=52, metrics={'Training binary_logloss': 0.21979583374298292, 'Training roc_auc': 0.8773626553302812}\n"
     ]
    },
    {
     "name": "stderr",
     "output_type": "stream",
     "text": [
      "INFO:bdrk:New metrics logged: with x=52, metrics={'Training binary_logloss': 0.21979583374298292, 'Training roc_auc': 0.8773626553302812}\n"
     ]
    },
    {
     "name": "stdout",
     "output_type": "stream",
     "text": [
      "New metrics logged: with x=53, metrics={'Training binary_logloss': 0.21943825845843284, 'Training roc_auc': 0.8773136036625245}\n"
     ]
    },
    {
     "name": "stderr",
     "output_type": "stream",
     "text": [
      "INFO:bdrk:New metrics logged: with x=53, metrics={'Training binary_logloss': 0.21943825845843284, 'Training roc_auc': 0.8773136036625245}\n"
     ]
    },
    {
     "name": "stdout",
     "output_type": "stream",
     "text": [
      "New metrics logged: with x=54, metrics={'Training binary_logloss': 0.21849066254249602, 'Training roc_auc': 0.8788096795291039}\n"
     ]
    },
    {
     "name": "stderr",
     "output_type": "stream",
     "text": [
      "INFO:bdrk:New metrics logged: with x=54, metrics={'Training binary_logloss': 0.21849066254249602, 'Training roc_auc': 0.8788096795291039}\n"
     ]
    },
    {
     "name": "stdout",
     "output_type": "stream",
     "text": [
      "New metrics logged: with x=55, metrics={'Training binary_logloss': 0.21811295347834822, 'Training roc_auc': 0.8794800523217788}\n"
     ]
    },
    {
     "name": "stderr",
     "output_type": "stream",
     "text": [
      "INFO:bdrk:New metrics logged: with x=55, metrics={'Training binary_logloss': 0.21811295347834822, 'Training roc_auc': 0.8794800523217788}\n"
     ]
    },
    {
     "name": "stdout",
     "output_type": "stream",
     "text": [
      "New metrics logged: with x=56, metrics={'Training binary_logloss': 0.2179504880253906, 'Training roc_auc': 0.8813194898626554}\n"
     ]
    },
    {
     "name": "stderr",
     "output_type": "stream",
     "text": [
      "INFO:bdrk:New metrics logged: with x=56, metrics={'Training binary_logloss': 0.2179504880253906, 'Training roc_auc': 0.8813194898626554}\n"
     ]
    },
    {
     "name": "stdout",
     "output_type": "stream",
     "text": [
      "New metrics logged: with x=57, metrics={'Training binary_logloss': 0.21776233075469775, 'Training roc_auc': 0.8824149771092218}\n"
     ]
    },
    {
     "name": "stderr",
     "output_type": "stream",
     "text": [
      "INFO:bdrk:New metrics logged: with x=57, metrics={'Training binary_logloss': 0.21776233075469775, 'Training roc_auc': 0.8824149771092218}\n"
     ]
    },
    {
     "name": "stdout",
     "output_type": "stream",
     "text": [
      "New metrics logged: with x=58, metrics={'Training binary_logloss': 0.21736890251732846, 'Training roc_auc': 0.8824149771092218}\n"
     ]
    },
    {
     "name": "stderr",
     "output_type": "stream",
     "text": [
      "INFO:bdrk:New metrics logged: with x=58, metrics={'Training binary_logloss': 0.21736890251732846, 'Training roc_auc': 0.8824149771092218}\n"
     ]
    },
    {
     "name": "stdout",
     "output_type": "stream",
     "text": [
      "New metrics logged: with x=59, metrics={'Training binary_logloss': 0.2169151635612637, 'Training roc_auc': 0.8833142576847614}\n"
     ]
    },
    {
     "name": "stderr",
     "output_type": "stream",
     "text": [
      "INFO:bdrk:New metrics logged: with x=59, metrics={'Training binary_logloss': 0.2169151635612637, 'Training roc_auc': 0.8833142576847614}\n"
     ]
    },
    {
     "name": "stdout",
     "output_type": "stream",
     "text": [
      "New metrics logged: with x=60, metrics={'Training binary_logloss': 0.21682695577276986, 'Training roc_auc': 0.8833306082406802}\n"
     ]
    },
    {
     "name": "stderr",
     "output_type": "stream",
     "text": [
      "INFO:bdrk:New metrics logged: with x=60, metrics={'Training binary_logloss': 0.21682695577276986, 'Training roc_auc': 0.8833306082406802}\n"
     ]
    },
    {
     "name": "stdout",
     "output_type": "stream",
     "text": [
      "New metrics logged: with x=61, metrics={'Training binary_logloss': 0.2161516254794459, 'Training roc_auc': 0.8838293001962068}\n"
     ]
    },
    {
     "name": "stderr",
     "output_type": "stream",
     "text": [
      "INFO:bdrk:New metrics logged: with x=61, metrics={'Training binary_logloss': 0.2161516254794459, 'Training roc_auc': 0.8838293001962068}\n"
     ]
    },
    {
     "name": "stdout",
     "output_type": "stream",
     "text": [
      "New metrics logged: with x=62, metrics={'Training binary_logloss': 0.21553575640669895, 'Training roc_auc': 0.8840091563113146}\n"
     ]
    },
    {
     "name": "stderr",
     "output_type": "stream",
     "text": [
      "INFO:bdrk:New metrics logged: with x=62, metrics={'Training binary_logloss': 0.21553575640669895, 'Training roc_auc': 0.8840091563113146}\n"
     ]
    },
    {
     "name": "stdout",
     "output_type": "stream",
     "text": [
      "New metrics logged: with x=63, metrics={'Training binary_logloss': 0.21535437363528226, 'Training roc_auc': 0.8813194898626553}\n"
     ]
    },
    {
     "name": "stderr",
     "output_type": "stream",
     "text": [
      "INFO:bdrk:New metrics logged: with x=63, metrics={'Training binary_logloss': 0.21535437363528226, 'Training roc_auc': 0.8813194898626553}\n"
     ]
    },
    {
     "name": "stdout",
     "output_type": "stream",
     "text": [
      "New metrics logged: with x=64, metrics={'Training binary_logloss': 0.21494289928232227, 'Training roc_auc': 0.8808453237410072}\n"
     ]
    },
    {
     "name": "stderr",
     "output_type": "stream",
     "text": [
      "INFO:bdrk:New metrics logged: with x=64, metrics={'Training binary_logloss': 0.21494289928232227, 'Training roc_auc': 0.8808453237410072}\n"
     ]
    },
    {
     "name": "stdout",
     "output_type": "stream",
     "text": [
      "New metrics logged: with x=65, metrics={'Training binary_logloss': 0.21477444165087894, 'Training roc_auc': 0.8825948332243295}\n"
     ]
    },
    {
     "name": "stderr",
     "output_type": "stream",
     "text": [
      "INFO:bdrk:New metrics logged: with x=65, metrics={'Training binary_logloss': 0.21477444165087894, 'Training roc_auc': 0.8825948332243295}\n"
     ]
    },
    {
     "name": "stdout",
     "output_type": "stream",
     "text": [
      "New metrics logged: with x=66, metrics={'Training binary_logloss': 0.2143724449212552, 'Training roc_auc': 0.8834450621321126}\n"
     ]
    },
    {
     "name": "stderr",
     "output_type": "stream",
     "text": [
      "INFO:bdrk:New metrics logged: with x=66, metrics={'Training binary_logloss': 0.2143724449212552, 'Training roc_auc': 0.8834450621321126}\n"
     ]
    },
    {
     "name": "stdout",
     "output_type": "stream",
     "text": [
      "New metrics logged: with x=67, metrics={'Training binary_logloss': 0.21465454261132308, 'Training roc_auc': 0.8832325049051668}\n"
     ]
    },
    {
     "name": "stderr",
     "output_type": "stream",
     "text": [
      "INFO:bdrk:New metrics logged: with x=67, metrics={'Training binary_logloss': 0.21465454261132308, 'Training roc_auc': 0.8832325049051668}\n"
     ]
    },
    {
     "name": "stdout",
     "output_type": "stream",
     "text": [
      "New metrics logged: with x=68, metrics={'Training binary_logloss': 0.21398414978334468, 'Training roc_auc': 0.8821697187704383}\n"
     ]
    },
    {
     "name": "stderr",
     "output_type": "stream",
     "text": [
      "INFO:bdrk:New metrics logged: with x=68, metrics={'Training binary_logloss': 0.21398414978334468, 'Training roc_auc': 0.8821697187704383}\n"
     ]
    },
    {
     "name": "stdout",
     "output_type": "stream",
     "text": [
      "New metrics logged: with x=69, metrics={'Training binary_logloss': 0.21392527065122632, 'Training roc_auc': 0.8803466317854807}\n"
     ]
    },
    {
     "name": "stderr",
     "output_type": "stream",
     "text": [
      "INFO:bdrk:New metrics logged: with x=69, metrics={'Training binary_logloss': 0.21392527065122632, 'Training roc_auc': 0.8803466317854807}\n"
     ]
    },
    {
     "name": "stdout",
     "output_type": "stream",
     "text": [
      "New metrics logged: with x=70, metrics={'Training binary_logloss': 0.21385547778265043, 'Training roc_auc': 0.8801831262262916}\n"
     ]
    },
    {
     "name": "stderr",
     "output_type": "stream",
     "text": [
      "INFO:bdrk:New metrics logged: with x=70, metrics={'Training binary_logloss': 0.21385547778265043, 'Training roc_auc': 0.8801831262262916}\n"
     ]
    },
    {
     "name": "stdout",
     "output_type": "stream",
     "text": [
      "New metrics logged: with x=71, metrics={'Training binary_logloss': 0.21351435476883543, 'Training roc_auc': 0.8809352517985611}\n"
     ]
    },
    {
     "name": "stderr",
     "output_type": "stream",
     "text": [
      "INFO:bdrk:New metrics logged: with x=71, metrics={'Training binary_logloss': 0.21351435476883543, 'Training roc_auc': 0.8809352517985611}\n"
     ]
    },
    {
     "name": "stdout",
     "output_type": "stream",
     "text": [
      "New metrics logged: with x=72, metrics={'Training binary_logloss': 0.2136609118016513, 'Training roc_auc': 0.8805591890124265}\n"
     ]
    },
    {
     "name": "stderr",
     "output_type": "stream",
     "text": [
      "INFO:bdrk:New metrics logged: with x=72, metrics={'Training binary_logloss': 0.2136609118016513, 'Training roc_auc': 0.8805591890124265}\n"
     ]
    },
    {
     "name": "stdout",
     "output_type": "stream",
     "text": [
      "New metrics logged: with x=73, metrics={'Training binary_logloss': 0.21377771735706158, 'Training roc_auc': 0.8801586003924133}\n"
     ]
    },
    {
     "name": "stderr",
     "output_type": "stream",
     "text": [
      "INFO:bdrk:New metrics logged: with x=73, metrics={'Training binary_logloss': 0.21377771735706158, 'Training roc_auc': 0.8801586003924133}\n"
     ]
    },
    {
     "name": "stdout",
     "output_type": "stream",
     "text": [
      "New metrics logged: with x=74, metrics={'Training binary_logloss': 0.21350764596958638, 'Training roc_auc': 0.8824149771092217}\n"
     ]
    },
    {
     "name": "stderr",
     "output_type": "stream",
     "text": [
      "INFO:bdrk:New metrics logged: with x=74, metrics={'Training binary_logloss': 0.21350764596958638, 'Training roc_auc': 0.8824149771092217}\n"
     ]
    },
    {
     "name": "stdout",
     "output_type": "stream",
     "text": [
      "New metrics logged: with x=75, metrics={'Training binary_logloss': 0.2137028747314997, 'Training roc_auc': 0.8825130804447352}\n"
     ]
    },
    {
     "name": "stderr",
     "output_type": "stream",
     "text": [
      "INFO:bdrk:New metrics logged: with x=75, metrics={'Training binary_logloss': 0.2137028747314997, 'Training roc_auc': 0.8825130804447352}\n"
     ]
    },
    {
     "name": "stdout",
     "output_type": "stream",
     "text": [
      "New metrics logged: with x=76, metrics={'Training binary_logloss': 0.2135041777684954, 'Training roc_auc': 0.8814502943100065}\n"
     ]
    },
    {
     "name": "stderr",
     "output_type": "stream",
     "text": [
      "INFO:bdrk:New metrics logged: with x=76, metrics={'Training binary_logloss': 0.2135041777684954, 'Training roc_auc': 0.8814502943100065}\n"
     ]
    },
    {
     "name": "stdout",
     "output_type": "stream",
     "text": [
      "New metrics logged: with x=77, metrics={'Training binary_logloss': 0.2136626835505043, 'Training roc_auc': 0.8800686723348593}\n"
     ]
    },
    {
     "name": "stderr",
     "output_type": "stream",
     "text": [
      "INFO:bdrk:New metrics logged: with x=77, metrics={'Training binary_logloss': 0.2136626835505043, 'Training roc_auc': 0.8800686723348593}\n"
     ]
    },
    {
     "name": "stdout",
     "output_type": "stream",
     "text": [
      "New metrics logged: with x=78, metrics={'Training binary_logloss': 0.21384103158701537, 'Training roc_auc': 0.879790712884238}\n"
     ]
    },
    {
     "name": "stderr",
     "output_type": "stream",
     "text": [
      "INFO:bdrk:New metrics logged: with x=78, metrics={'Training binary_logloss': 0.21384103158701537, 'Training roc_auc': 0.879790712884238}\n"
     ]
    },
    {
     "name": "stdout",
     "output_type": "stream",
     "text": [
      "New metrics logged: with x=79, metrics={'Training binary_logloss': 0.21369320086003055, 'Training roc_auc': 0.8798888162197515}\n"
     ]
    },
    {
     "name": "stderr",
     "output_type": "stream",
     "text": [
      "INFO:bdrk:New metrics logged: with x=79, metrics={'Training binary_logloss': 0.21369320086003055, 'Training roc_auc': 0.8798888162197515}\n"
     ]
    },
    {
     "name": "stdout",
     "output_type": "stream",
     "text": [
      "New metrics logged: with x=80, metrics={'Training binary_logloss': 0.21382340224107035, 'Training roc_auc': 0.8800359712230217}\n"
     ]
    },
    {
     "name": "stderr",
     "output_type": "stream",
     "text": [
      "INFO:bdrk:New metrics logged: with x=80, metrics={'Training binary_logloss': 0.21382340224107035, 'Training roc_auc': 0.8800359712230217}\n"
     ]
    },
    {
     "name": "stdout",
     "output_type": "stream",
     "text": [
      "New metrics logged: with x=81, metrics={'Training binary_logloss': 0.21392891985562304, 'Training roc_auc': 0.879136690647482}\n"
     ]
    },
    {
     "name": "stderr",
     "output_type": "stream",
     "text": [
      "INFO:bdrk:New metrics logged: with x=81, metrics={'Training binary_logloss': 0.21392891985562304, 'Training roc_auc': 0.879136690647482}\n"
     ]
    },
    {
     "name": "stdout",
     "output_type": "stream",
     "text": [
      "New metrics logged: with x=82, metrics={'Training binary_logloss': 0.21397819019991832, 'Training roc_auc': 0.8792184434270766}\n"
     ]
    },
    {
     "name": "stderr",
     "output_type": "stream",
     "text": [
      "INFO:bdrk:New metrics logged: with x=82, metrics={'Training binary_logloss': 0.21397819019991832, 'Training roc_auc': 0.8792184434270766}\n"
     ]
    },
    {
     "name": "stdout",
     "output_type": "stream",
     "text": [
      "New metrics logged: with x=83, metrics={'Training binary_logloss': 0.2140066911259145, 'Training roc_auc': 0.8792020928711577}\n"
     ]
    },
    {
     "name": "stderr",
     "output_type": "stream",
     "text": [
      "INFO:bdrk:New metrics logged: with x=83, metrics={'Training binary_logloss': 0.2140066911259145, 'Training roc_auc': 0.8792020928711577}\n"
     ]
    },
    {
     "name": "stdout",
     "output_type": "stream",
     "text": [
      "New metrics logged: with x=84, metrics={'Training binary_logloss': 0.21405778963431063, 'Training roc_auc': 0.8796599084368869}\n"
     ]
    },
    {
     "name": "stderr",
     "output_type": "stream",
     "text": [
      "INFO:bdrk:New metrics logged: with x=84, metrics={'Training binary_logloss': 0.21405778963431063, 'Training roc_auc': 0.8796599084368869}\n"
     ]
    },
    {
     "name": "stdout",
     "output_type": "stream",
     "text": [
      "New metrics logged: with x=85, metrics={'Training binary_logloss': 0.21431624604225713, 'Training roc_auc': 0.8797416612164815}\n"
     ]
    },
    {
     "name": "stderr",
     "output_type": "stream",
     "text": [
      "INFO:bdrk:New metrics logged: with x=85, metrics={'Training binary_logloss': 0.21431624604225713, 'Training roc_auc': 0.8797416612164815}\n"
     ]
    },
    {
     "name": "stdout",
     "output_type": "stream",
     "text": [
      "New metrics logged: with x=86, metrics={'Training binary_logloss': 0.21407521873375265, 'Training roc_auc': 0.8809189012426423}\n"
     ]
    },
    {
     "name": "stderr",
     "output_type": "stream",
     "text": [
      "INFO:bdrk:New metrics logged: with x=86, metrics={'Training binary_logloss': 0.21407521873375265, 'Training roc_auc': 0.8809189012426423}\n"
     ]
    },
    {
     "name": "stdout",
     "output_type": "stream",
     "text": [
      "New metrics logged: with x=87, metrics={'Training binary_logloss': 0.21356956105166325, 'Training roc_auc': 0.8814748201438849}\n"
     ]
    },
    {
     "name": "stderr",
     "output_type": "stream",
     "text": [
      "INFO:bdrk:New metrics logged: with x=87, metrics={'Training binary_logloss': 0.21356956105166325, 'Training roc_auc': 0.8814748201438849}\n"
     ]
    },
    {
     "name": "stdout",
     "output_type": "stream",
     "text": [
      "New metrics logged: with x=88, metrics={'Training binary_logloss': 0.2136655885479576, 'Training roc_auc': 0.8810987573577502}\n"
     ]
    },
    {
     "name": "stderr",
     "output_type": "stream",
     "text": [
      "INFO:bdrk:New metrics logged: with x=88, metrics={'Training binary_logloss': 0.2136655885479576, 'Training roc_auc': 0.8810987573577502}\n"
     ]
    },
    {
     "name": "stdout",
     "output_type": "stream",
     "text": [
      "New metrics logged: with x=89, metrics={'Training binary_logloss': 0.21387971957196758, 'Training roc_auc': 0.8815565729234793}\n"
     ]
    },
    {
     "name": "stderr",
     "output_type": "stream",
     "text": [
      "INFO:bdrk:New metrics logged: with x=89, metrics={'Training binary_logloss': 0.21387971957196758, 'Training roc_auc': 0.8815565729234793}\n"
     ]
    },
    {
     "name": "stdout",
     "output_type": "stream",
     "text": [
      "New metrics logged: with x=90, metrics={'Training binary_logloss': 0.2137003164162365, 'Training roc_auc': 0.8813113145846959}\n"
     ]
    },
    {
     "name": "stderr",
     "output_type": "stream",
     "text": [
      "INFO:bdrk:New metrics logged: with x=90, metrics={'Training binary_logloss': 0.2137003164162365, 'Training roc_auc': 0.8813113145846959}\n"
     ]
    },
    {
     "name": "stdout",
     "output_type": "stream",
     "text": [
      "New metrics logged: with x=91, metrics={'Training binary_logloss': 0.21365611473106882, 'Training roc_auc': 0.8809352517985612}\n"
     ]
    },
    {
     "name": "stderr",
     "output_type": "stream",
     "text": [
      "INFO:bdrk:New metrics logged: with x=91, metrics={'Training binary_logloss': 0.21365611473106882, 'Training roc_auc': 0.8809352517985612}\n"
     ]
    },
    {
     "name": "stdout",
     "output_type": "stream",
     "text": [
      "New metrics logged: with x=92, metrics={'Training binary_logloss': 0.2138795835737388, 'Training roc_auc': 0.8804283845650753}\n"
     ]
    },
    {
     "name": "stderr",
     "output_type": "stream",
     "text": [
      "INFO:bdrk:New metrics logged: with x=92, metrics={'Training binary_logloss': 0.2138795835737388, 'Training roc_auc': 0.8804283845650753}\n"
     ]
    },
    {
     "name": "stdout",
     "output_type": "stream",
     "text": [
      "New metrics logged: with x=93, metrics={'Training binary_logloss': 0.2140020764694987, 'Training roc_auc': 0.8808862001308043}\n"
     ]
    },
    {
     "name": "stderr",
     "output_type": "stream",
     "text": [
      "INFO:bdrk:New metrics logged: with x=93, metrics={'Training binary_logloss': 0.2140020764694987, 'Training roc_auc': 0.8808862001308043}\n"
     ]
    },
    {
     "name": "stdout",
     "output_type": "stream",
     "text": [
      "New metrics logged: with x=94, metrics={'Training binary_logloss': 0.2138634462311244, 'Training roc_auc': 0.880984303466318}\n"
     ]
    },
    {
     "name": "stderr",
     "output_type": "stream",
     "text": [
      "INFO:bdrk:New metrics logged: with x=94, metrics={'Training binary_logloss': 0.2138634462311244, 'Training roc_auc': 0.880984303466318}\n"
     ]
    },
    {
     "name": "stdout",
     "output_type": "stream",
     "text": [
      "New metrics logged: with x=95, metrics={'Training binary_logloss': 0.21387914672578381, 'Training roc_auc': 0.8799705689993459}\n"
     ]
    },
    {
     "name": "stderr",
     "output_type": "stream",
     "text": [
      "INFO:bdrk:New metrics logged: with x=95, metrics={'Training binary_logloss': 0.21387914672578381, 'Training roc_auc': 0.8799705689993459}\n"
     ]
    },
    {
     "name": "stdout",
     "output_type": "stream",
     "text": [
      "New metrics logged: with x=96, metrics={'Training binary_logloss': 0.2137556005856443, 'Training roc_auc': 0.879807063440157}\n"
     ]
    },
    {
     "name": "stderr",
     "output_type": "stream",
     "text": [
      "INFO:bdrk:New metrics logged: with x=96, metrics={'Training binary_logloss': 0.2137556005856443, 'Training roc_auc': 0.879807063440157}\n"
     ]
    },
    {
     "name": "stdout",
     "output_type": "stream",
     "text": [
      "New metrics logged: with x=97, metrics={'Training binary_logloss': 0.2142105806197337, 'Training roc_auc': 0.8792593198168737}\n"
     ]
    },
    {
     "name": "stderr",
     "output_type": "stream",
     "text": [
      "INFO:bdrk:New metrics logged: with x=97, metrics={'Training binary_logloss': 0.2142105806197337, 'Training roc_auc': 0.8792593198168737}\n"
     ]
    },
    {
     "name": "stdout",
     "output_type": "stream",
     "text": [
      "New metrics logged: with x=98, metrics={'Training binary_logloss': 0.21412120284780298, 'Training roc_auc': 0.8780902550686723}\n"
     ]
    },
    {
     "name": "stderr",
     "output_type": "stream",
     "text": [
      "INFO:bdrk:New metrics logged: with x=98, metrics={'Training binary_logloss': 0.21412120284780298, 'Training roc_auc': 0.8780902550686723}\n"
     ]
    },
    {
     "name": "stdout",
     "output_type": "stream",
     "text": [
      "New metrics logged: with x=99, metrics={'Training binary_logloss': 0.2141069473079306, 'Training roc_auc': 0.8780902550686722}\n"
     ]
    },
    {
     "name": "stderr",
     "output_type": "stream",
     "text": [
      "INFO:bdrk:New metrics logged: with x=99, metrics={'Training binary_logloss': 0.2141069473079306, 'Training roc_auc': 0.8780902550686722}\n"
     ]
    },
    {
     "name": "stdout",
     "output_type": "stream",
     "text": [
      "New metrics logged: with x=0, metrics={'Accuracy': 0.9580838323353293, 'Precision': 0.9047619047619048, 'Recall': 0.7916666666666666, 'F1 score': 0.8444444444444444, 'Roc auc': 0.8888403263403263, 'Avg precision': 0.7462099610303203}\n"
     ]
    },
    {
     "name": "stderr",
     "output_type": "stream",
     "text": [
      "INFO:bdrk:New metrics logged: with x=0, metrics={'Accuracy': 0.9580838323353293, 'Precision': 0.9047619047619048, 'Recall': 0.7916666666666666, 'F1 score': 0.8444444444444444, 'Roc auc': 0.8888403263403263, 'Avg precision': 0.7462099610303203}\n"
     ]
    },
    {
     "name": "stdout",
     "output_type": "stream",
     "text": [
      "Confusion matrix logged\n"
     ]
    },
    {
     "name": "stderr",
     "output_type": "stream",
     "text": [
      "INFO:bdrk:Confusion matrix logged\n"
     ]
    },
    {
     "name": "stdout",
     "output_type": "stream",
     "text": [
      "Model logged: data/lgb_model.pkl\n"
     ]
    },
    {
     "name": "stderr",
     "output_type": "stream",
     "text": [
      "INFO:bdrk:Model logged: data/lgb_model.pkl\n"
     ]
    },
    {
     "name": "stdout",
     "output_type": "stream",
     "text": [
      "Model version created: nglinh-new-pipeline-v9\n"
     ]
    },
    {
     "name": "stderr",
     "output_type": "stream",
     "text": [
      "INFO:bdrk:Model version created: nglinh-new-pipeline-v9\n"
     ]
    },
    {
     "name": "stdout",
     "output_type": "stream",
     "text": [
      "Run Succeeded: nglinh-new-pipeline-run16\n"
     ]
    },
    {
     "name": "stderr",
     "output_type": "stream",
     "text": [
      "INFO:bdrk:Run Succeeded: nglinh-new-pipeline-run16\n"
     ]
    },
    {
     "name": "stdout",
     "output_type": "stream",
     "text": [
      "Run exitted\n"
     ]
    },
    {
     "name": "stderr",
     "output_type": "stream",
     "text": [
      "INFO:bdrk:Run exitted\n"
     ]
    }
   ],
   "source": [
    "# Initialize the project\n",
    "bdrk.init(project_id=\"nglinh-churn-prediction\")\n",
    "\n",
    "with bdrk.start_run(pipeline_id=\"nglinh-new-pipeline\", environment_id=\"playground-production\"):\n",
    "    # Log related parameters\n",
    "    bdrk.log_params({\"LR\": LR, \"NUM_LEAVES\": NUM_LEAVES, \"N_ESTIMATORS\": N_ESTIMATORS})\n",
    "    \n",
    "    \n",
    "    clf = lgb.LGBMClassifier(num_leaves=NUM_LEAVES, learning_rate=LR, n_estimators=N_ESTIMATORS)\n",
    "    \n",
    "    # Log a single metric\n",
    "    bdrk.log_metric(key=\"Feature Count\", value=len(FEATURE_COLS))\n",
    "    \n",
    "    clf.fit(\n",
    "        X_train,\n",
    "        y_train,\n",
    "        eval_set=[(X_val, y_val)],\n",
    "        eval_metric=lgb_roc_auc_score,\n",
    "        verbose=False,\n",
    "    )\n",
    "    \n",
    "    # Log metrics for each training step\n",
    "    evals = clf.evals_result_[\"valid_0\"]\n",
    "    for iteration in range(N_ESTIMATORS):\n",
    "        bdrk.log_metrics(metrics={\n",
    "            \"Training binary_logloss\": evals[\"binary_logloss\"][iteration],\n",
    "            \"Training roc_auc\": evals[\"roc_auc\"][iteration]\n",
    "        }, x=iteration)\n",
    "        \n",
    "\n",
    "    y_probs = clf.predict_proba(X_test)[:,1]\n",
    "        \n",
    "    \n",
    "    # Log final metrics in batch\n",
    "    y_pred = (y_probs > 0.5).astype(int)\n",
    "    bdrk.log_metrics(metrics={\n",
    "        \"Accuracy\": metrics.accuracy_score(y_test, y_pred),\n",
    "        \"Precision\": metrics.precision_score(y_test, y_pred),\n",
    "        \"Recall\": metrics.recall_score(y_test, y_pred),\n",
    "        \"F1 score\": metrics.f1_score(y_test, y_pred),\n",
    "        \"Roc auc\": metrics.roc_auc_score(y_test, y_pred),\n",
    "        \"Avg precision\": metrics.average_precision_score(y_test, y_pred),\n",
    "    })\n",
    "    \n",
    "    # Log the binary classifier from the predicted data\n",
    "    bdrk.log_binary_classifier_metrics(actual=y_test, probability=y_probs)\n",
    "\n",
    "    # Saving and log the model\n",
    "    with open(OUTPUT_MODEL, \"wb\") as model_file:\n",
    "        pickle.dump(clf, model_file)\n",
    "    bdrk.log_model(OUTPUT_MODEL)\n"
   ]
  },
  {
   "cell_type": "code",
   "execution_count": 22,
   "metadata": {},
   "outputs": [
    {
     "name": "stdout",
     "output_type": "stream",
     "text": [
      "Confusion matrix:\n",
      "[[282   4]\n",
      " [ 10  38]] \n",
      "\n",
      "              precision    recall  f1-score   support\n",
      "\n",
      "           0       0.97      0.99      0.98       286\n",
      "           1       0.90      0.79      0.84        48\n",
      "\n",
      "    accuracy                           0.96       334\n",
      "   macro avg       0.94      0.89      0.91       334\n",
      "weighted avg       0.96      0.96      0.96       334\n",
      "\n"
     ]
    }
   ],
   "source": [
    "print_results(y_test, y_probs)"
   ]
  }
 ],
 "metadata": {
  "kernelspec": {
   "display_name": "Python 3",
   "language": "python",
   "name": "python3"
  },
  "language_info": {
   "codemirror_mode": {
    "name": "ipython",
    "version": 3
   },
   "file_extension": ".py",
   "mimetype": "text/x-python",
   "name": "python",
   "nbconvert_exporter": "python",
   "pygments_lexer": "ipython3",
   "version": "3.8.5"
  }
 },
 "nbformat": 4,
 "nbformat_minor": 4
}
