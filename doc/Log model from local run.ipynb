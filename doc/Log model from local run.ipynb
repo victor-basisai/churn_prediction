{
 "cells": [
  {
   "cell_type": "code",
   "execution_count": 26,
   "metadata": {},
   "outputs": [
    {
     "name": "stdout",
     "output_type": "stream",
     "text": [
      "The autoreload extension is already loaded. To reload it, use:\n",
      "  %reload_ext autoreload\n"
     ]
    }
   ],
   "source": [
    "import bdrk\n",
    "import lightgbm as lgb\n",
    "import logging\n",
    "import numpy as np\n",
    "import os\n",
    "import pandas as pd\n",
    "import pickle\n",
    "import sys\n",
    "\n",
    "from bedrock_client.bedrock.analyzer.model_analyzer import ModelAnalyzer\n",
    "from bedrock_client.bedrock.analyzer import ModelTypes\n",
    "from sklearn import metrics\n",
    "from utils import lgb_roc_auc_score, print_results\n",
    "\n",
    "%matplotlib inline\n",
    "%load_ext autoreload\n",
    "%autoreload 2\n",
    "\n",
    "\n",
    "# You can customize the logging logic here\n",
    "_logger = logging.getLogger(bdrk.utils.vars.Constants.MAIN_LOG)\n",
    "_logger.setLevel(logging.INFO)\n",
    "if not _logger.handlers:\n",
    "    _logger.addHandler(logging.StreamHandler(stream=sys.stdout))\n",
    "    \n",
    "# Visit https://bedrock.basis-ai.com/setting/token/ to get the personal access token.\n",
    "with open('bdrk_token') as f:\n",
    "    token = f.read()\n",
    "os.environ[\"BEDROCK_API_TOKEN\"] = token\n"
   ]
  },
  {
   "cell_type": "markdown",
   "metadata": {},
   "source": [
    "# Data processing"
   ]
  },
  {
   "cell_type": "code",
   "execution_count": 27,
   "metadata": {},
   "outputs": [],
   "source": [
    "# Subscribers data\n",
    "subscribers = pd.read_parquet(\"data/subscribers.gz.parquet\", engine=\"fastparquet\")\n",
    "for col in [\"Churn\", \"Intl_Plan\", \"VMail_Plan\"]:\n",
    "    subscribers[col] = (subscribers[col] == \"yes\").astype(int)\n",
    "\n",
    "# Calls data\n",
    "all_calls = pd.read_parquet(\"data/all_calls.gz.parquet\", engine=\"fastparquet\")\n",
    "all_calls = all_calls.groupby([\"Call_type\", \"User_id\"]).agg([\"sum\", \"count\"]).reset_index()\n",
    "all_calls.columns = [\"Call_type\", \"User_id\", \"Mins\", \"Calls\"]\n",
    "all_calls = all_calls.pivot(index=\"User_id\", columns=\"Call_type\", values=[\"Mins\", \"Calls\"]).reset_index()\n",
    "all_calls.columns = [\n",
    "    \"User_id\", \"Day_Mins\", \"Eve_Mins\", \"Intl_Mins\", \"Night_Mins\",\n",
    "    \"Day_Calls\", \"Eve_Calls\", \"Intl_Calls\", \"Night_Calls\"]\n",
    "\n",
    "# Joining\n",
    "model_data = pd.merge(subscribers, all_calls, on=[\"User_id\"], how=\"left\")\n",
    "model_data = model_data.fillna(0)\n",
    "\n",
    "# Categorical encoding\n",
    "model_data = pd.get_dummies(model_data, columns=[\"Area_Code\", \"State\"])"
   ]
  },
  {
   "cell_type": "code",
   "execution_count": 28,
   "metadata": {},
   "outputs": [],
   "source": [
    "FEATURE_COLS = [\n",
    "    \"Intl_Plan\", \"VMail_Plan\", \"VMail_Message\", \"CustServ_Calls\",\n",
    "    \"Day_Mins\", \"Day_Calls\", \"Eve_Mins\", \"Eve_Calls\", \n",
    "    \"Night_Mins\", \"Night_Calls\", \"Intl_Mins\", \"Intl_Calls\",\n",
    "    \"Area_Code_408\", \"Area_Code_415\", \"Area_Code_510\",\n",
    "    \"State_AK\", \"State_AL\", \"State_AR\", \"State_AZ\", \"State_CA\", \"State_CO\",\n",
    "    \"State_CT\", \"State_DC\", \"State_DE\", \"State_FL\", \"State_GA\", \"State_HI\",\n",
    "    \"State_IA\", \"State_ID\", \"State_IL\", \"State_IN\", \"State_KS\", \"State_KY\",\n",
    "    \"State_LA\", \"State_MA\", \"State_MD\", \"State_ME\", \"State_MI\", \"State_MN\",\n",
    "    \"State_MO\", \"State_MS\", \"State_MT\", \"State_NC\", \"State_ND\", \"State_NE\",\n",
    "    \"State_NH\", \"State_NJ\", \"State_NM\", \"State_NV\", \"State_NY\", \"State_OH\",\n",
    "    \"State_OK\", \"State_OR\", \"State_PA\", \"State_RI\", \"State_SC\", \"State_SD\",\n",
    "    \"State_TN\", \"State_TX\", \"State_UT\", \"State_VA\", \"State_VT\", \"State_WA\",\n",
    "    \"State_WI\", \"State_WV\", \"State_WY\",\n",
    "]\n",
    "\n",
    "TARGET_COL = \"Churn\""
   ]
  },
  {
   "cell_type": "markdown",
   "metadata": {},
   "source": [
    "## Train/test split"
   ]
  },
  {
   "cell_type": "code",
   "execution_count": 29,
   "metadata": {},
   "outputs": [],
   "source": [
    "train_data, eval_data, test_data = np.split(\n",
    "    model_data.sample(frac=1, random_state=1729),\n",
    "    [int(0.7 * len(model_data)), int(0.9 * len(model_data))])\n",
    "\n",
    "X_train = train_data[FEATURE_COLS]\n",
    "y_train = train_data[TARGET_COL]\n",
    "\n",
    "X_val = eval_data[FEATURE_COLS]\n",
    "y_val = eval_data[TARGET_COL]\n",
    "\n",
    "X_test = test_data[FEATURE_COLS]\n",
    "y_test = test_data[TARGET_COL]"
   ]
  },
  {
   "cell_type": "markdown",
   "metadata": {},
   "source": [
    "# Training"
   ]
  },
  {
   "cell_type": "markdown",
   "metadata": {},
   "source": [
    "## Training parameter"
   ]
  },
  {
   "cell_type": "code",
   "execution_count": 30,
   "metadata": {},
   "outputs": [],
   "source": [
    "LR = 0.05\n",
    "NUM_LEAVES = 10\n",
    "N_ESTIMATORS = 100\n",
    "OUTPUT_MODEL = \"data/lgb_model.pkl\""
   ]
  },
  {
   "cell_type": "markdown",
   "metadata": {},
   "source": [
    "## Training code"
   ]
  },
  {
   "cell_type": "code",
   "execution_count": 31,
   "metadata": {},
   "outputs": [
    {
     "name": "stdout",
     "output_type": "stream",
     "text": [
      "BedrockClient initialized on project=nglinh-churn-prediction\n"
     ]
    },
    {
     "name": "stderr",
     "output_type": "stream",
     "text": [
      "INFO:bdrk:BedrockClient initialized on project=nglinh-churn-prediction\n"
     ]
    },
    {
     "name": "stdout",
     "output_type": "stream",
     "text": [
      "Run started: nglinh-new-pipeline-run15\n"
     ]
    },
    {
     "name": "stderr",
     "output_type": "stream",
     "text": [
      "INFO:bdrk:Run started: nglinh-new-pipeline-run15\n"
     ]
    },
    {
     "name": "stdout",
     "output_type": "stream",
     "text": [
      "Params updated: {'LR': '0.05', 'NUM_LEAVES': '10', 'N_ESTIMATORS': '100'}\n"
     ]
    },
    {
     "name": "stderr",
     "output_type": "stream",
     "text": [
      "INFO:bdrk:Params updated: {'LR': '0.05', 'NUM_LEAVES': '10', 'N_ESTIMATORS': '100'}\n"
     ]
    },
    {
     "name": "stdout",
     "output_type": "stream",
     "text": [
      "New metrics logged: with x=0, metrics={'Feature Count': 66}\n"
     ]
    },
    {
     "name": "stderr",
     "output_type": "stream",
     "text": [
      "INFO:bdrk:New metrics logged: with x=0, metrics={'Feature Count': 66}\n"
     ]
    },
    {
     "name": "stdout",
     "output_type": "stream",
     "text": [
      "New metrics logged: with x=0, metrics={'Training binary_logloss': 0.42411608991485394, 'Training roc_auc': 0.8034581425768477}\n"
     ]
    },
    {
     "name": "stderr",
     "output_type": "stream",
     "text": [
      "INFO:bdrk:New metrics logged: with x=0, metrics={'Training binary_logloss': 0.42411608991485394, 'Training roc_auc': 0.8034581425768477}\n"
     ]
    },
    {
     "name": "stdout",
     "output_type": "stream",
     "text": [
      "New metrics logged: with x=1, metrics={'Training binary_logloss': 0.40134724066017885, 'Training roc_auc': 0.8678711576193591}\n"
     ]
    },
    {
     "name": "stderr",
     "output_type": "stream",
     "text": [
      "INFO:bdrk:New metrics logged: with x=1, metrics={'Training binary_logloss': 0.40134724066017885, 'Training roc_auc': 0.8678711576193591}\n"
     ]
    },
    {
     "name": "stdout",
     "output_type": "stream",
     "text": [
      "New metrics logged: with x=2, metrics={'Training binary_logloss': 0.3834933178683167, 'Training roc_auc': 0.8681654676258993}\n"
     ]
    },
    {
     "name": "stderr",
     "output_type": "stream",
     "text": [
      "INFO:bdrk:New metrics logged: with x=2, metrics={'Training binary_logloss': 0.3834933178683167, 'Training roc_auc': 0.8681654676258993}\n"
     ]
    },
    {
     "name": "stdout",
     "output_type": "stream",
     "text": [
      "New metrics logged: with x=3, metrics={'Training binary_logloss': 0.3687551865710305, 'Training roc_auc': 0.8684025506867233}\n"
     ]
    },
    {
     "name": "stderr",
     "output_type": "stream",
     "text": [
      "INFO:bdrk:New metrics logged: with x=3, metrics={'Training binary_logloss': 0.3687551865710305, 'Training roc_auc': 0.8684025506867233}\n"
     ]
    },
    {
     "name": "stdout",
     "output_type": "stream",
     "text": [
      "New metrics logged: with x=4, metrics={'Training binary_logloss': 0.35655750997637553, 'Training roc_auc': 0.8681736429038588}\n"
     ]
    },
    {
     "name": "stderr",
     "output_type": "stream",
     "text": [
      "INFO:bdrk:New metrics logged: with x=4, metrics={'Training binary_logloss': 0.35655750997637553, 'Training roc_auc': 0.8681736429038588}\n"
     ]
    },
    {
     "name": "stdout",
     "output_type": "stream",
     "text": [
      "New metrics logged: with x=5, metrics={'Training binary_logloss': 0.3452089443095781, 'Training roc_auc': 0.8692282537606278}\n"
     ]
    },
    {
     "name": "stderr",
     "output_type": "stream",
     "text": [
      "INFO:bdrk:New metrics logged: with x=5, metrics={'Training binary_logloss': 0.3452089443095781, 'Training roc_auc': 0.8692282537606278}\n"
     ]
    },
    {
     "name": "stdout",
     "output_type": "stream",
     "text": [
      "New metrics logged: with x=6, metrics={'Training binary_logloss': 0.3359103723120976, 'Training roc_auc': 0.8691628515369523}\n"
     ]
    },
    {
     "name": "stderr",
     "output_type": "stream",
     "text": [
      "INFO:bdrk:New metrics logged: with x=6, metrics={'Training binary_logloss': 0.3359103723120976, 'Training roc_auc': 0.8691628515369523}\n"
     ]
    },
    {
     "name": "stdout",
     "output_type": "stream",
     "text": [
      "New metrics logged: with x=7, metrics={'Training binary_logloss': 0.32645803709822413, 'Training roc_auc': 0.8718279921517331}\n"
     ]
    },
    {
     "name": "stderr",
     "output_type": "stream",
     "text": [
      "INFO:bdrk:New metrics logged: with x=7, metrics={'Training binary_logloss': 0.32645803709822413, 'Training roc_auc': 0.8718279921517331}\n"
     ]
    },
    {
     "name": "stdout",
     "output_type": "stream",
     "text": [
      "New metrics logged: with x=8, metrics={'Training binary_logloss': 0.3189920201217658, 'Training roc_auc': 0.8723675604970569}\n"
     ]
    },
    {
     "name": "stderr",
     "output_type": "stream",
     "text": [
      "INFO:bdrk:New metrics logged: with x=8, metrics={'Training binary_logloss': 0.3189920201217658, 'Training roc_auc': 0.8723675604970569}\n"
     ]
    },
    {
     "name": "stdout",
     "output_type": "stream",
     "text": [
      "New metrics logged: with x=9, metrics={'Training binary_logloss': 0.3116306662069914, 'Training roc_auc': 0.8718933943754088}\n"
     ]
    },
    {
     "name": "stderr",
     "output_type": "stream",
     "text": [
      "INFO:bdrk:New metrics logged: with x=9, metrics={'Training binary_logloss': 0.3116306662069914, 'Training roc_auc': 0.8718933943754088}\n"
     ]
    },
    {
     "name": "stdout",
     "output_type": "stream",
     "text": [
      "New metrics logged: with x=10, metrics={'Training binary_logloss': 0.3050891795258238, 'Training roc_auc': 0.8730788096795292}\n"
     ]
    },
    {
     "name": "stderr",
     "output_type": "stream",
     "text": [
      "INFO:bdrk:New metrics logged: with x=10, metrics={'Training binary_logloss': 0.3050891795258238, 'Training roc_auc': 0.8730788096795292}\n"
     ]
    },
    {
     "name": "stdout",
     "output_type": "stream",
     "text": [
      "New metrics logged: with x=11, metrics={'Training binary_logloss': 0.2989693522059649, 'Training roc_auc': 0.8739045127534336}\n"
     ]
    },
    {
     "name": "stderr",
     "output_type": "stream",
     "text": [
      "INFO:bdrk:New metrics logged: with x=11, metrics={'Training binary_logloss': 0.2989693522059649, 'Training roc_auc': 0.8739045127534336}\n"
     ]
    },
    {
     "name": "stdout",
     "output_type": "stream",
     "text": [
      "New metrics logged: with x=12, metrics={'Training binary_logloss': 0.29351288750728516, 'Training roc_auc': 0.8735693263570962}\n"
     ]
    },
    {
     "name": "stderr",
     "output_type": "stream",
     "text": [
      "INFO:bdrk:New metrics logged: with x=12, metrics={'Training binary_logloss': 0.29351288750728516, 'Training roc_auc': 0.8735693263570962}\n"
     ]
    },
    {
     "name": "stdout",
     "output_type": "stream",
     "text": [
      "New metrics logged: with x=13, metrics={'Training binary_logloss': 0.28816371021471876, 'Training roc_auc': 0.8724738391105298}\n"
     ]
    },
    {
     "name": "stderr",
     "output_type": "stream",
     "text": [
      "INFO:bdrk:New metrics logged: with x=13, metrics={'Training binary_logloss': 0.28816371021471876, 'Training roc_auc': 0.8724738391105298}\n"
     ]
    },
    {
     "name": "stdout",
     "output_type": "stream",
     "text": [
      "New metrics logged: with x=14, metrics={'Training binary_logloss': 0.2831755364317565, 'Training roc_auc': 0.8732586657946371}\n"
     ]
    },
    {
     "name": "stderr",
     "output_type": "stream",
     "text": [
      "INFO:bdrk:New metrics logged: with x=14, metrics={'Training binary_logloss': 0.2831755364317565, 'Training roc_auc': 0.8732586657946371}\n"
     ]
    },
    {
     "name": "stdout",
     "output_type": "stream",
     "text": [
      "New metrics logged: with x=15, metrics={'Training binary_logloss': 0.2791325845117751, 'Training roc_auc': 0.8728989535644213}\n"
     ]
    },
    {
     "name": "stderr",
     "output_type": "stream",
     "text": [
      "INFO:bdrk:New metrics logged: with x=15, metrics={'Training binary_logloss': 0.2791325845117751, 'Training roc_auc': 0.8728989535644213}\n"
     ]
    },
    {
     "name": "stdout",
     "output_type": "stream",
     "text": [
      "New metrics logged: with x=16, metrics={'Training binary_logloss': 0.2751526466198835, 'Training roc_auc': 0.8738799869195553}\n"
     ]
    },
    {
     "name": "stderr",
     "output_type": "stream",
     "text": [
      "INFO:bdrk:New metrics logged: with x=16, metrics={'Training binary_logloss': 0.2751526466198835, 'Training roc_auc': 0.8738799869195553}\n"
     ]
    },
    {
     "name": "stdout",
     "output_type": "stream",
     "text": [
      "New metrics logged: with x=17, metrics={'Training binary_logloss': 0.2712833440359884, 'Training roc_auc': 0.87351209941138}\n"
     ]
    },
    {
     "name": "stderr",
     "output_type": "stream",
     "text": [
      "INFO:bdrk:New metrics logged: with x=17, metrics={'Training binary_logloss': 0.2712833440359884, 'Training roc_auc': 0.87351209941138}\n"
     ]
    },
    {
     "name": "stdout",
     "output_type": "stream",
     "text": [
      "New metrics logged: with x=18, metrics={'Training binary_logloss': 0.26764530981564055, 'Training roc_auc': 0.8713129496402878}\n"
     ]
    },
    {
     "name": "stderr",
     "output_type": "stream",
     "text": [
      "INFO:bdrk:New metrics logged: with x=18, metrics={'Training binary_logloss': 0.26764530981564055, 'Training roc_auc': 0.8713129496402878}\n"
     ]
    },
    {
     "name": "stdout",
     "output_type": "stream",
     "text": [
      "New metrics logged: with x=19, metrics={'Training binary_logloss': 0.2638782722638984, 'Training roc_auc': 0.8720405493786788}\n"
     ]
    },
    {
     "name": "stderr",
     "output_type": "stream",
     "text": [
      "INFO:bdrk:New metrics logged: with x=19, metrics={'Training binary_logloss': 0.2638782722638984, 'Training roc_auc': 0.8720405493786788}\n"
     ]
    },
    {
     "name": "stdout",
     "output_type": "stream",
     "text": [
      "New metrics logged: with x=20, metrics={'Training binary_logloss': 0.260884754162782, 'Training roc_auc': 0.8718116415958143}\n"
     ]
    },
    {
     "name": "stderr",
     "output_type": "stream",
     "text": [
      "INFO:bdrk:New metrics logged: with x=20, metrics={'Training binary_logloss': 0.260884754162782, 'Training roc_auc': 0.8718116415958143}\n"
     ]
    },
    {
     "name": "stdout",
     "output_type": "stream",
     "text": [
      "New metrics logged: with x=21, metrics={'Training binary_logloss': 0.2585916270346122, 'Training roc_auc': 0.8718933943754088}\n"
     ]
    },
    {
     "name": "stderr",
     "output_type": "stream",
     "text": [
      "INFO:bdrk:New metrics logged: with x=21, metrics={'Training binary_logloss': 0.2585916270346122, 'Training roc_auc': 0.8718933943754088}\n"
     ]
    },
    {
     "name": "stdout",
     "output_type": "stream",
     "text": [
      "New metrics logged: with x=22, metrics={'Training binary_logloss': 0.25592041535604365, 'Training roc_auc': 0.8720405493786789}\n"
     ]
    },
    {
     "name": "stderr",
     "output_type": "stream",
     "text": [
      "INFO:bdrk:New metrics logged: with x=22, metrics={'Training binary_logloss': 0.25592041535604365, 'Training roc_auc': 0.8720405493786789}\n"
     ]
    },
    {
     "name": "stdout",
     "output_type": "stream",
     "text": [
      "New metrics logged: with x=23, metrics={'Training binary_logloss': 0.25348851472482997, 'Training roc_auc': 0.870863309352518}\n"
     ]
    },
    {
     "name": "stderr",
     "output_type": "stream",
     "text": [
      "INFO:bdrk:New metrics logged: with x=23, metrics={'Training binary_logloss': 0.25348851472482997, 'Training roc_auc': 0.870863309352518}\n"
     ]
    },
    {
     "name": "stdout",
     "output_type": "stream",
     "text": [
      "New metrics logged: with x=24, metrics={'Training binary_logloss': 0.25145582360015567, 'Training roc_auc': 0.8707897318508829}\n"
     ]
    },
    {
     "name": "stderr",
     "output_type": "stream",
     "text": [
      "INFO:bdrk:New metrics logged: with x=24, metrics={'Training binary_logloss': 0.25145582360015567, 'Training roc_auc': 0.8707897318508829}\n"
     ]
    },
    {
     "name": "stdout",
     "output_type": "stream",
     "text": [
      "New metrics logged: with x=25, metrics={'Training binary_logloss': 0.24904519157232846, 'Training roc_auc': 0.8707897318508829}\n"
     ]
    },
    {
     "name": "stderr",
     "output_type": "stream",
     "text": [
      "INFO:bdrk:New metrics logged: with x=25, metrics={'Training binary_logloss': 0.24904519157232846, 'Training roc_auc': 0.8707897318508829}\n"
     ]
    },
    {
     "name": "stdout",
     "output_type": "stream",
     "text": [
      "New metrics logged: with x=26, metrics={'Training binary_logloss': 0.24701013791427795, 'Training roc_auc': 0.8707243296272074}\n"
     ]
    },
    {
     "name": "stderr",
     "output_type": "stream",
     "text": [
      "INFO:bdrk:New metrics logged: with x=26, metrics={'Training binary_logloss': 0.24701013791427795, 'Training roc_auc': 0.8707243296272074}\n"
     ]
    },
    {
     "name": "stdout",
     "output_type": "stream",
     "text": [
      "New metrics logged: with x=27, metrics={'Training binary_logloss': 0.24459330130635507, 'Training roc_auc': 0.8704790712884237}\n"
     ]
    },
    {
     "name": "stderr",
     "output_type": "stream",
     "text": [
      "INFO:bdrk:New metrics logged: with x=27, metrics={'Training binary_logloss': 0.24459330130635507, 'Training roc_auc': 0.8704790712884237}\n"
     ]
    },
    {
     "name": "stdout",
     "output_type": "stream",
     "text": [
      "New metrics logged: with x=28, metrics={'Training binary_logloss': 0.24279480000138, 'Training roc_auc': 0.8717625899280576}\n"
     ]
    },
    {
     "name": "stderr",
     "output_type": "stream",
     "text": [
      "INFO:bdrk:New metrics logged: with x=28, metrics={'Training binary_logloss': 0.24279480000138, 'Training roc_auc': 0.8717625899280576}\n"
     ]
    },
    {
     "name": "stdout",
     "output_type": "stream",
     "text": [
      "New metrics logged: with x=29, metrics={'Training binary_logloss': 0.24096628038233114, 'Training roc_auc': 0.8724002616088946}\n"
     ]
    },
    {
     "name": "stderr",
     "output_type": "stream",
     "text": [
      "INFO:bdrk:New metrics logged: with x=29, metrics={'Training binary_logloss': 0.24096628038233114, 'Training roc_auc': 0.8724002616088946}\n"
     ]
    },
    {
     "name": "stdout",
     "output_type": "stream",
     "text": [
      "New metrics logged: with x=30, metrics={'Training binary_logloss': 0.23939153034362998, 'Training roc_auc': 0.8744277305428384}\n"
     ]
    },
    {
     "name": "stderr",
     "output_type": "stream",
     "text": [
      "INFO:bdrk:New metrics logged: with x=30, metrics={'Training binary_logloss': 0.23939153034362998, 'Training roc_auc': 0.8744277305428384}\n"
     ]
    },
    {
     "name": "stdout",
     "output_type": "stream",
     "text": [
      "New metrics logged: with x=31, metrics={'Training binary_logloss': 0.23818806861201675, 'Training roc_auc': 0.8746729888816219}\n"
     ]
    },
    {
     "name": "stderr",
     "output_type": "stream",
     "text": [
      "INFO:bdrk:New metrics logged: with x=31, metrics={'Training binary_logloss': 0.23818806861201675, 'Training roc_auc': 0.8746729888816219}\n"
     ]
    },
    {
     "name": "stdout",
     "output_type": "stream",
     "text": [
      "New metrics logged: with x=32, metrics={'Training binary_logloss': 0.23666491886446162, 'Training roc_auc': 0.8782210595160236}\n"
     ]
    },
    {
     "name": "stderr",
     "output_type": "stream",
     "text": [
      "INFO:bdrk:New metrics logged: with x=32, metrics={'Training binary_logloss': 0.23666491886446162, 'Training roc_auc': 0.8782210595160236}\n"
     ]
    },
    {
     "name": "stdout",
     "output_type": "stream",
     "text": [
      "New metrics logged: with x=33, metrics={'Training binary_logloss': 0.235265264537087, 'Training roc_auc': 0.8749672988881623}\n"
     ]
    },
    {
     "name": "stderr",
     "output_type": "stream",
     "text": [
      "INFO:bdrk:New metrics logged: with x=33, metrics={'Training binary_logloss': 0.235265264537087, 'Training roc_auc': 0.8749672988881623}\n"
     ]
    },
    {
     "name": "stdout",
     "output_type": "stream",
     "text": [
      "New metrics logged: with x=34, metrics={'Training binary_logloss': 0.23448545289247572, 'Training roc_auc': 0.8749182472204055}\n"
     ]
    },
    {
     "name": "stderr",
     "output_type": "stream",
     "text": [
      "INFO:bdrk:New metrics logged: with x=34, metrics={'Training binary_logloss': 0.23448545289247572, 'Training roc_auc': 0.8749182472204055}\n"
     ]
    },
    {
     "name": "stdout",
     "output_type": "stream",
     "text": [
      "New metrics logged: with x=35, metrics={'Training binary_logloss': 0.2334509976896336, 'Training roc_auc': 0.8736429038587311}\n"
     ]
    },
    {
     "name": "stderr",
     "output_type": "stream",
     "text": [
      "INFO:bdrk:New metrics logged: with x=35, metrics={'Training binary_logloss': 0.2334509976896336, 'Training roc_auc': 0.8736429038587311}\n"
     ]
    },
    {
     "name": "stdout",
     "output_type": "stream",
     "text": [
      "New metrics logged: with x=36, metrics={'Training binary_logloss': 0.23226330339837561, 'Training roc_auc': 0.8770928711576194}\n"
     ]
    },
    {
     "name": "stderr",
     "output_type": "stream",
     "text": [
      "INFO:bdrk:New metrics logged: with x=36, metrics={'Training binary_logloss': 0.23226330339837561, 'Training roc_auc': 0.8770928711576194}\n"
     ]
    },
    {
     "name": "stdout",
     "output_type": "stream",
     "text": [
      "New metrics logged: with x=37, metrics={'Training binary_logloss': 0.23127686373461964, 'Training roc_auc': 0.8751308044473513}\n"
     ]
    },
    {
     "name": "stderr",
     "output_type": "stream",
     "text": [
      "INFO:bdrk:New metrics logged: with x=37, metrics={'Training binary_logloss': 0.23127686373461964, 'Training roc_auc': 0.8751308044473513}\n"
     ]
    },
    {
     "name": "stdout",
     "output_type": "stream",
     "text": [
      "New metrics logged: with x=38, metrics={'Training binary_logloss': 0.23047876323863972, 'Training roc_auc': 0.8752207325049052}\n"
     ]
    },
    {
     "name": "stderr",
     "output_type": "stream",
     "text": [
      "INFO:bdrk:New metrics logged: with x=38, metrics={'Training binary_logloss': 0.23047876323863972, 'Training roc_auc': 0.8752207325049052}\n"
     ]
    },
    {
     "name": "stdout",
     "output_type": "stream",
     "text": [
      "New metrics logged: with x=39, metrics={'Training binary_logloss': 0.22908545174431147, 'Training roc_auc': 0.8754332897318509}\n"
     ]
    },
    {
     "name": "stderr",
     "output_type": "stream",
     "text": [
      "INFO:bdrk:New metrics logged: with x=39, metrics={'Training binary_logloss': 0.22908545174431147, 'Training roc_auc': 0.8754332897318509}\n"
     ]
    },
    {
     "name": "stdout",
     "output_type": "stream",
     "text": [
      "New metrics logged: with x=40, metrics={'Training binary_logloss': 0.22861222050105887, 'Training roc_auc': 0.8754741661216482}\n"
     ]
    },
    {
     "name": "stderr",
     "output_type": "stream",
     "text": [
      "INFO:bdrk:New metrics logged: with x=40, metrics={'Training binary_logloss': 0.22861222050105887, 'Training roc_auc': 0.8754741661216482}\n"
     ]
    },
    {
     "name": "stdout",
     "output_type": "stream",
     "text": [
      "New metrics logged: with x=41, metrics={'Training binary_logloss': 0.22803913179474097, 'Training roc_auc': 0.8804283845650752}\n"
     ]
    },
    {
     "name": "stderr",
     "output_type": "stream",
     "text": [
      "INFO:bdrk:New metrics logged: with x=41, metrics={'Training binary_logloss': 0.22803913179474097, 'Training roc_auc': 0.8804283845650752}\n"
     ]
    },
    {
     "name": "stdout",
     "output_type": "stream",
     "text": [
      "New metrics logged: with x=42, metrics={'Training binary_logloss': 0.22669480033519485, 'Training roc_auc': 0.8808616742969261}\n"
     ]
    },
    {
     "name": "stderr",
     "output_type": "stream",
     "text": [
      "INFO:bdrk:New metrics logged: with x=42, metrics={'Training binary_logloss': 0.22669480033519485, 'Training roc_auc': 0.8808616742969261}\n"
     ]
    },
    {
     "name": "stdout",
     "output_type": "stream",
     "text": [
      "New metrics logged: with x=43, metrics={'Training binary_logloss': 0.22578640787436377, 'Training roc_auc': 0.8832733812949639}\n"
     ]
    },
    {
     "name": "stderr",
     "output_type": "stream",
     "text": [
      "INFO:bdrk:New metrics logged: with x=43, metrics={'Training binary_logloss': 0.22578640787436377, 'Training roc_auc': 0.8832733812949639}\n"
     ]
    },
    {
     "name": "stdout",
     "output_type": "stream",
     "text": [
      "New metrics logged: with x=44, metrics={'Training binary_logloss': 0.22541565527687726, 'Training roc_auc': 0.8827828646173971}\n"
     ]
    },
    {
     "name": "stderr",
     "output_type": "stream",
     "text": [
      "INFO:bdrk:New metrics logged: with x=44, metrics={'Training binary_logloss': 0.22541565527687726, 'Training roc_auc': 0.8827828646173971}\n"
     ]
    },
    {
     "name": "stdout",
     "output_type": "stream",
     "text": [
      "New metrics logged: with x=45, metrics={'Training binary_logloss': 0.22423876283428648, 'Training roc_auc': 0.8830281229561805}\n"
     ]
    },
    {
     "name": "stderr",
     "output_type": "stream",
     "text": [
      "INFO:bdrk:New metrics logged: with x=45, metrics={'Training binary_logloss': 0.22423876283428648, 'Training roc_auc': 0.8830281229561805}\n"
     ]
    },
    {
     "name": "stdout",
     "output_type": "stream",
     "text": [
      "New metrics logged: with x=46, metrics={'Training binary_logloss': 0.22349581628068382, 'Training roc_auc': 0.882946370176586}\n"
     ]
    },
    {
     "name": "stderr",
     "output_type": "stream",
     "text": [
      "INFO:bdrk:New metrics logged: with x=46, metrics={'Training binary_logloss': 0.22349581628068382, 'Training roc_auc': 0.882946370176586}\n"
     ]
    },
    {
     "name": "stdout",
     "output_type": "stream",
     "text": [
      "New metrics logged: with x=47, metrics={'Training binary_logloss': 0.22288858417086335, 'Training roc_auc': 0.8830199476782211}\n"
     ]
    },
    {
     "name": "stderr",
     "output_type": "stream",
     "text": [
      "INFO:bdrk:New metrics logged: with x=47, metrics={'Training binary_logloss': 0.22288858417086335, 'Training roc_auc': 0.8830199476782211}\n"
     ]
    },
    {
     "name": "stdout",
     "output_type": "stream",
     "text": [
      "New metrics logged: with x=48, metrics={'Training binary_logloss': 0.22242939120531918, 'Training roc_auc': 0.8827174623937213}\n"
     ]
    },
    {
     "name": "stderr",
     "output_type": "stream",
     "text": [
      "INFO:bdrk:New metrics logged: with x=48, metrics={'Training binary_logloss': 0.22242939120531918, 'Training roc_auc': 0.8827174623937213}\n"
     ]
    },
    {
     "name": "stdout",
     "output_type": "stream",
     "text": [
      "New metrics logged: with x=49, metrics={'Training binary_logloss': 0.22165958155999116, 'Training roc_auc': 0.8807472204054938}\n"
     ]
    },
    {
     "name": "stderr",
     "output_type": "stream",
     "text": [
      "INFO:bdrk:New metrics logged: with x=49, metrics={'Training binary_logloss': 0.22165958155999116, 'Training roc_auc': 0.8807472204054938}\n"
     ]
    },
    {
     "name": "stdout",
     "output_type": "stream",
     "text": [
      "New metrics logged: with x=50, metrics={'Training binary_logloss': 0.22170954331524012, 'Training roc_auc': 0.8772727272727272}\n"
     ]
    },
    {
     "name": "stderr",
     "output_type": "stream",
     "text": [
      "INFO:bdrk:New metrics logged: with x=50, metrics={'Training binary_logloss': 0.22170954331524012, 'Training roc_auc': 0.8772727272727272}\n"
     ]
    },
    {
     "name": "stdout",
     "output_type": "stream",
     "text": [
      "New metrics logged: with x=51, metrics={'Training binary_logloss': 0.22059513035479064, 'Training roc_auc': 0.8774280575539569}\n"
     ]
    },
    {
     "name": "stderr",
     "output_type": "stream",
     "text": [
      "INFO:bdrk:New metrics logged: with x=51, metrics={'Training binary_logloss': 0.22059513035479064, 'Training roc_auc': 0.8774280575539569}\n"
     ]
    },
    {
     "name": "stdout",
     "output_type": "stream",
     "text": [
      "New metrics logged: with x=52, metrics={'Training binary_logloss': 0.21979583374298295, 'Training roc_auc': 0.8773626553302812}\n"
     ]
    },
    {
     "name": "stderr",
     "output_type": "stream",
     "text": [
      "INFO:bdrk:New metrics logged: with x=52, metrics={'Training binary_logloss': 0.21979583374298295, 'Training roc_auc': 0.8773626553302812}\n"
     ]
    },
    {
     "name": "stdout",
     "output_type": "stream",
     "text": [
      "New metrics logged: with x=53, metrics={'Training binary_logloss': 0.21943825845843284, 'Training roc_auc': 0.8773136036625245}\n"
     ]
    },
    {
     "name": "stderr",
     "output_type": "stream",
     "text": [
      "INFO:bdrk:New metrics logged: with x=53, metrics={'Training binary_logloss': 0.21943825845843284, 'Training roc_auc': 0.8773136036625245}\n"
     ]
    },
    {
     "name": "stdout",
     "output_type": "stream",
     "text": [
      "New metrics logged: with x=54, metrics={'Training binary_logloss': 0.21849066254249602, 'Training roc_auc': 0.8788096795291039}\n"
     ]
    },
    {
     "name": "stderr",
     "output_type": "stream",
     "text": [
      "INFO:bdrk:New metrics logged: with x=54, metrics={'Training binary_logloss': 0.21849066254249602, 'Training roc_auc': 0.8788096795291039}\n"
     ]
    },
    {
     "name": "stdout",
     "output_type": "stream",
     "text": [
      "New metrics logged: with x=55, metrics={'Training binary_logloss': 0.21811295347834822, 'Training roc_auc': 0.8794800523217788}\n"
     ]
    },
    {
     "name": "stderr",
     "output_type": "stream",
     "text": [
      "INFO:bdrk:New metrics logged: with x=55, metrics={'Training binary_logloss': 0.21811295347834822, 'Training roc_auc': 0.8794800523217788}\n"
     ]
    },
    {
     "name": "stdout",
     "output_type": "stream",
     "text": [
      "New metrics logged: with x=56, metrics={'Training binary_logloss': 0.21795048802539066, 'Training roc_auc': 0.8813194898626554}\n"
     ]
    },
    {
     "name": "stderr",
     "output_type": "stream",
     "text": [
      "INFO:bdrk:New metrics logged: with x=56, metrics={'Training binary_logloss': 0.21795048802539066, 'Training roc_auc': 0.8813194898626554}\n"
     ]
    },
    {
     "name": "stdout",
     "output_type": "stream",
     "text": [
      "New metrics logged: with x=57, metrics={'Training binary_logloss': 0.2177623307546978, 'Training roc_auc': 0.8824149771092218}\n"
     ]
    },
    {
     "name": "stderr",
     "output_type": "stream",
     "text": [
      "INFO:bdrk:New metrics logged: with x=57, metrics={'Training binary_logloss': 0.2177623307546978, 'Training roc_auc': 0.8824149771092218}\n"
     ]
    },
    {
     "name": "stdout",
     "output_type": "stream",
     "text": [
      "New metrics logged: with x=58, metrics={'Training binary_logloss': 0.21736890251732852, 'Training roc_auc': 0.8824149771092218}\n"
     ]
    },
    {
     "name": "stderr",
     "output_type": "stream",
     "text": [
      "INFO:bdrk:New metrics logged: with x=58, metrics={'Training binary_logloss': 0.21736890251732852, 'Training roc_auc': 0.8824149771092218}\n"
     ]
    },
    {
     "name": "stdout",
     "output_type": "stream",
     "text": [
      "New metrics logged: with x=59, metrics={'Training binary_logloss': 0.21691516356126364, 'Training roc_auc': 0.8833142576847614}\n"
     ]
    },
    {
     "name": "stderr",
     "output_type": "stream",
     "text": [
      "INFO:bdrk:New metrics logged: with x=59, metrics={'Training binary_logloss': 0.21691516356126364, 'Training roc_auc': 0.8833142576847614}\n"
     ]
    },
    {
     "name": "stdout",
     "output_type": "stream",
     "text": [
      "New metrics logged: with x=60, metrics={'Training binary_logloss': 0.2168269557727698, 'Training roc_auc': 0.8833306082406802}\n"
     ]
    },
    {
     "name": "stderr",
     "output_type": "stream",
     "text": [
      "INFO:bdrk:New metrics logged: with x=60, metrics={'Training binary_logloss': 0.2168269557727698, 'Training roc_auc': 0.8833306082406802}\n"
     ]
    },
    {
     "name": "stdout",
     "output_type": "stream",
     "text": [
      "New metrics logged: with x=61, metrics={'Training binary_logloss': 0.21615162547944597, 'Training roc_auc': 0.8838293001962068}\n"
     ]
    },
    {
     "name": "stderr",
     "output_type": "stream",
     "text": [
      "INFO:bdrk:New metrics logged: with x=61, metrics={'Training binary_logloss': 0.21615162547944597, 'Training roc_auc': 0.8838293001962068}\n"
     ]
    },
    {
     "name": "stdout",
     "output_type": "stream",
     "text": [
      "New metrics logged: with x=62, metrics={'Training binary_logloss': 0.21553575640669895, 'Training roc_auc': 0.8840091563113146}\n"
     ]
    },
    {
     "name": "stderr",
     "output_type": "stream",
     "text": [
      "INFO:bdrk:New metrics logged: with x=62, metrics={'Training binary_logloss': 0.21553575640669895, 'Training roc_auc': 0.8840091563113146}\n"
     ]
    },
    {
     "name": "stdout",
     "output_type": "stream",
     "text": [
      "New metrics logged: with x=63, metrics={'Training binary_logloss': 0.21535437363528218, 'Training roc_auc': 0.8813194898626553}\n"
     ]
    },
    {
     "name": "stderr",
     "output_type": "stream",
     "text": [
      "INFO:bdrk:New metrics logged: with x=63, metrics={'Training binary_logloss': 0.21535437363528218, 'Training roc_auc': 0.8813194898626553}\n"
     ]
    },
    {
     "name": "stdout",
     "output_type": "stream",
     "text": [
      "New metrics logged: with x=64, metrics={'Training binary_logloss': 0.21494289928232227, 'Training roc_auc': 0.8808453237410072}\n"
     ]
    },
    {
     "name": "stderr",
     "output_type": "stream",
     "text": [
      "INFO:bdrk:New metrics logged: with x=64, metrics={'Training binary_logloss': 0.21494289928232227, 'Training roc_auc': 0.8808453237410072}\n"
     ]
    },
    {
     "name": "stdout",
     "output_type": "stream",
     "text": [
      "New metrics logged: with x=65, metrics={'Training binary_logloss': 0.21477444165087892, 'Training roc_auc': 0.8825948332243295}\n"
     ]
    },
    {
     "name": "stderr",
     "output_type": "stream",
     "text": [
      "INFO:bdrk:New metrics logged: with x=65, metrics={'Training binary_logloss': 0.21477444165087892, 'Training roc_auc': 0.8825948332243295}\n"
     ]
    },
    {
     "name": "stdout",
     "output_type": "stream",
     "text": [
      "New metrics logged: with x=66, metrics={'Training binary_logloss': 0.21437244492125518, 'Training roc_auc': 0.8834450621321126}\n"
     ]
    },
    {
     "name": "stderr",
     "output_type": "stream",
     "text": [
      "INFO:bdrk:New metrics logged: with x=66, metrics={'Training binary_logloss': 0.21437244492125518, 'Training roc_auc': 0.8834450621321126}\n"
     ]
    },
    {
     "name": "stdout",
     "output_type": "stream",
     "text": [
      "New metrics logged: with x=67, metrics={'Training binary_logloss': 0.21465454261132302, 'Training roc_auc': 0.8832325049051668}\n"
     ]
    },
    {
     "name": "stderr",
     "output_type": "stream",
     "text": [
      "INFO:bdrk:New metrics logged: with x=67, metrics={'Training binary_logloss': 0.21465454261132302, 'Training roc_auc': 0.8832325049051668}\n"
     ]
    },
    {
     "name": "stdout",
     "output_type": "stream",
     "text": [
      "New metrics logged: with x=68, metrics={'Training binary_logloss': 0.21398414978334462, 'Training roc_auc': 0.8821697187704383}\n"
     ]
    },
    {
     "name": "stderr",
     "output_type": "stream",
     "text": [
      "INFO:bdrk:New metrics logged: with x=68, metrics={'Training binary_logloss': 0.21398414978334462, 'Training roc_auc': 0.8821697187704383}\n"
     ]
    },
    {
     "name": "stdout",
     "output_type": "stream",
     "text": [
      "New metrics logged: with x=69, metrics={'Training binary_logloss': 0.2139252706512263, 'Training roc_auc': 0.8803466317854807}\n"
     ]
    },
    {
     "name": "stderr",
     "output_type": "stream",
     "text": [
      "INFO:bdrk:New metrics logged: with x=69, metrics={'Training binary_logloss': 0.2139252706512263, 'Training roc_auc': 0.8803466317854807}\n"
     ]
    },
    {
     "name": "stdout",
     "output_type": "stream",
     "text": [
      "New metrics logged: with x=70, metrics={'Training binary_logloss': 0.21385547778265043, 'Training roc_auc': 0.8801831262262916}\n"
     ]
    },
    {
     "name": "stderr",
     "output_type": "stream",
     "text": [
      "INFO:bdrk:New metrics logged: with x=70, metrics={'Training binary_logloss': 0.21385547778265043, 'Training roc_auc': 0.8801831262262916}\n"
     ]
    },
    {
     "name": "stdout",
     "output_type": "stream",
     "text": [
      "New metrics logged: with x=71, metrics={'Training binary_logloss': 0.21351435476883543, 'Training roc_auc': 0.8809352517985611}\n"
     ]
    },
    {
     "name": "stderr",
     "output_type": "stream",
     "text": [
      "INFO:bdrk:New metrics logged: with x=71, metrics={'Training binary_logloss': 0.21351435476883543, 'Training roc_auc': 0.8809352517985611}\n"
     ]
    },
    {
     "name": "stdout",
     "output_type": "stream",
     "text": [
      "New metrics logged: with x=72, metrics={'Training binary_logloss': 0.21366091180165125, 'Training roc_auc': 0.8805591890124265}\n"
     ]
    },
    {
     "name": "stderr",
     "output_type": "stream",
     "text": [
      "INFO:bdrk:New metrics logged: with x=72, metrics={'Training binary_logloss': 0.21366091180165125, 'Training roc_auc': 0.8805591890124265}\n"
     ]
    },
    {
     "name": "stdout",
     "output_type": "stream",
     "text": [
      "New metrics logged: with x=73, metrics={'Training binary_logloss': 0.21377771735706158, 'Training roc_auc': 0.8801586003924133}\n"
     ]
    },
    {
     "name": "stderr",
     "output_type": "stream",
     "text": [
      "INFO:bdrk:New metrics logged: with x=73, metrics={'Training binary_logloss': 0.21377771735706158, 'Training roc_auc': 0.8801586003924133}\n"
     ]
    },
    {
     "name": "stdout",
     "output_type": "stream",
     "text": [
      "New metrics logged: with x=74, metrics={'Training binary_logloss': 0.21350764596958632, 'Training roc_auc': 0.8824149771092217}\n"
     ]
    },
    {
     "name": "stderr",
     "output_type": "stream",
     "text": [
      "INFO:bdrk:New metrics logged: with x=74, metrics={'Training binary_logloss': 0.21350764596958632, 'Training roc_auc': 0.8824149771092217}\n"
     ]
    },
    {
     "name": "stdout",
     "output_type": "stream",
     "text": [
      "New metrics logged: with x=75, metrics={'Training binary_logloss': 0.2137028747314997, 'Training roc_auc': 0.8825130804447352}\n"
     ]
    },
    {
     "name": "stderr",
     "output_type": "stream",
     "text": [
      "INFO:bdrk:New metrics logged: with x=75, metrics={'Training binary_logloss': 0.2137028747314997, 'Training roc_auc': 0.8825130804447352}\n"
     ]
    },
    {
     "name": "stdout",
     "output_type": "stream",
     "text": [
      "New metrics logged: with x=76, metrics={'Training binary_logloss': 0.21350417776849545, 'Training roc_auc': 0.8814502943100065}\n"
     ]
    },
    {
     "name": "stderr",
     "output_type": "stream",
     "text": [
      "INFO:bdrk:New metrics logged: with x=76, metrics={'Training binary_logloss': 0.21350417776849545, 'Training roc_auc': 0.8814502943100065}\n"
     ]
    },
    {
     "name": "stdout",
     "output_type": "stream",
     "text": [
      "New metrics logged: with x=77, metrics={'Training binary_logloss': 0.21366268355050427, 'Training roc_auc': 0.8800686723348593}\n"
     ]
    },
    {
     "name": "stderr",
     "output_type": "stream",
     "text": [
      "INFO:bdrk:New metrics logged: with x=77, metrics={'Training binary_logloss': 0.21366268355050427, 'Training roc_auc': 0.8800686723348593}\n"
     ]
    },
    {
     "name": "stdout",
     "output_type": "stream",
     "text": [
      "New metrics logged: with x=78, metrics={'Training binary_logloss': 0.21384103158701537, 'Training roc_auc': 0.879790712884238}\n"
     ]
    },
    {
     "name": "stderr",
     "output_type": "stream",
     "text": [
      "INFO:bdrk:New metrics logged: with x=78, metrics={'Training binary_logloss': 0.21384103158701537, 'Training roc_auc': 0.879790712884238}\n"
     ]
    },
    {
     "name": "stdout",
     "output_type": "stream",
     "text": [
      "New metrics logged: with x=79, metrics={'Training binary_logloss': 0.21369320086003057, 'Training roc_auc': 0.8798888162197515}\n"
     ]
    },
    {
     "name": "stderr",
     "output_type": "stream",
     "text": [
      "INFO:bdrk:New metrics logged: with x=79, metrics={'Training binary_logloss': 0.21369320086003057, 'Training roc_auc': 0.8798888162197515}\n"
     ]
    },
    {
     "name": "stdout",
     "output_type": "stream",
     "text": [
      "New metrics logged: with x=80, metrics={'Training binary_logloss': 0.21382340224107033, 'Training roc_auc': 0.8800359712230217}\n"
     ]
    },
    {
     "name": "stderr",
     "output_type": "stream",
     "text": [
      "INFO:bdrk:New metrics logged: with x=80, metrics={'Training binary_logloss': 0.21382340224107033, 'Training roc_auc': 0.8800359712230217}\n"
     ]
    },
    {
     "name": "stdout",
     "output_type": "stream",
     "text": [
      "New metrics logged: with x=81, metrics={'Training binary_logloss': 0.21392891985562307, 'Training roc_auc': 0.879136690647482}\n"
     ]
    },
    {
     "name": "stderr",
     "output_type": "stream",
     "text": [
      "INFO:bdrk:New metrics logged: with x=81, metrics={'Training binary_logloss': 0.21392891985562307, 'Training roc_auc': 0.879136690647482}\n"
     ]
    },
    {
     "name": "stdout",
     "output_type": "stream",
     "text": [
      "New metrics logged: with x=82, metrics={'Training binary_logloss': 0.21397819019991832, 'Training roc_auc': 0.8792184434270766}\n"
     ]
    },
    {
     "name": "stderr",
     "output_type": "stream",
     "text": [
      "INFO:bdrk:New metrics logged: with x=82, metrics={'Training binary_logloss': 0.21397819019991832, 'Training roc_auc': 0.8792184434270766}\n"
     ]
    },
    {
     "name": "stdout",
     "output_type": "stream",
     "text": [
      "New metrics logged: with x=83, metrics={'Training binary_logloss': 0.21400669112591447, 'Training roc_auc': 0.8792020928711577}\n"
     ]
    },
    {
     "name": "stderr",
     "output_type": "stream",
     "text": [
      "INFO:bdrk:New metrics logged: with x=83, metrics={'Training binary_logloss': 0.21400669112591447, 'Training roc_auc': 0.8792020928711577}\n"
     ]
    },
    {
     "name": "stdout",
     "output_type": "stream",
     "text": [
      "New metrics logged: with x=84, metrics={'Training binary_logloss': 0.21405778963431063, 'Training roc_auc': 0.8796599084368869}\n"
     ]
    },
    {
     "name": "stderr",
     "output_type": "stream",
     "text": [
      "INFO:bdrk:New metrics logged: with x=84, metrics={'Training binary_logloss': 0.21405778963431063, 'Training roc_auc': 0.8796599084368869}\n"
     ]
    },
    {
     "name": "stdout",
     "output_type": "stream",
     "text": [
      "New metrics logged: with x=85, metrics={'Training binary_logloss': 0.21431624604225713, 'Training roc_auc': 0.8797416612164815}\n"
     ]
    },
    {
     "name": "stderr",
     "output_type": "stream",
     "text": [
      "INFO:bdrk:New metrics logged: with x=85, metrics={'Training binary_logloss': 0.21431624604225713, 'Training roc_auc': 0.8797416612164815}\n"
     ]
    },
    {
     "name": "stdout",
     "output_type": "stream",
     "text": [
      "New metrics logged: with x=86, metrics={'Training binary_logloss': 0.21407521873375265, 'Training roc_auc': 0.8809189012426423}\n"
     ]
    },
    {
     "name": "stderr",
     "output_type": "stream",
     "text": [
      "INFO:bdrk:New metrics logged: with x=86, metrics={'Training binary_logloss': 0.21407521873375265, 'Training roc_auc': 0.8809189012426423}\n"
     ]
    },
    {
     "name": "stdout",
     "output_type": "stream",
     "text": [
      "New metrics logged: with x=87, metrics={'Training binary_logloss': 0.2135695610516632, 'Training roc_auc': 0.8814748201438849}\n"
     ]
    },
    {
     "name": "stderr",
     "output_type": "stream",
     "text": [
      "INFO:bdrk:New metrics logged: with x=87, metrics={'Training binary_logloss': 0.2135695610516632, 'Training roc_auc': 0.8814748201438849}\n"
     ]
    },
    {
     "name": "stdout",
     "output_type": "stream",
     "text": [
      "New metrics logged: with x=88, metrics={'Training binary_logloss': 0.21366558854795756, 'Training roc_auc': 0.8810987573577502}\n"
     ]
    },
    {
     "name": "stderr",
     "output_type": "stream",
     "text": [
      "INFO:bdrk:New metrics logged: with x=88, metrics={'Training binary_logloss': 0.21366558854795756, 'Training roc_auc': 0.8810987573577502}\n"
     ]
    },
    {
     "name": "stdout",
     "output_type": "stream",
     "text": [
      "New metrics logged: with x=89, metrics={'Training binary_logloss': 0.21387971957196758, 'Training roc_auc': 0.8815565729234793}\n"
     ]
    },
    {
     "name": "stderr",
     "output_type": "stream",
     "text": [
      "INFO:bdrk:New metrics logged: with x=89, metrics={'Training binary_logloss': 0.21387971957196758, 'Training roc_auc': 0.8815565729234793}\n"
     ]
    },
    {
     "name": "stdout",
     "output_type": "stream",
     "text": [
      "New metrics logged: with x=90, metrics={'Training binary_logloss': 0.2137003164162365, 'Training roc_auc': 0.8813113145846959}\n"
     ]
    },
    {
     "name": "stderr",
     "output_type": "stream",
     "text": [
      "INFO:bdrk:New metrics logged: with x=90, metrics={'Training binary_logloss': 0.2137003164162365, 'Training roc_auc': 0.8813113145846959}\n"
     ]
    },
    {
     "name": "stdout",
     "output_type": "stream",
     "text": [
      "New metrics logged: with x=91, metrics={'Training binary_logloss': 0.21365611473106882, 'Training roc_auc': 0.8809352517985612}\n"
     ]
    },
    {
     "name": "stderr",
     "output_type": "stream",
     "text": [
      "INFO:bdrk:New metrics logged: with x=91, metrics={'Training binary_logloss': 0.21365611473106882, 'Training roc_auc': 0.8809352517985612}\n"
     ]
    },
    {
     "name": "stdout",
     "output_type": "stream",
     "text": [
      "New metrics logged: with x=92, metrics={'Training binary_logloss': 0.21387958357373876, 'Training roc_auc': 0.8804283845650753}\n"
     ]
    },
    {
     "name": "stderr",
     "output_type": "stream",
     "text": [
      "INFO:bdrk:New metrics logged: with x=92, metrics={'Training binary_logloss': 0.21387958357373876, 'Training roc_auc': 0.8804283845650753}\n"
     ]
    },
    {
     "name": "stdout",
     "output_type": "stream",
     "text": [
      "New metrics logged: with x=93, metrics={'Training binary_logloss': 0.2140020764694988, 'Training roc_auc': 0.8808862001308043}\n"
     ]
    },
    {
     "name": "stderr",
     "output_type": "stream",
     "text": [
      "INFO:bdrk:New metrics logged: with x=93, metrics={'Training binary_logloss': 0.2140020764694988, 'Training roc_auc': 0.8808862001308043}\n"
     ]
    },
    {
     "name": "stdout",
     "output_type": "stream",
     "text": [
      "New metrics logged: with x=94, metrics={'Training binary_logloss': 0.2138634462311244, 'Training roc_auc': 0.880984303466318}\n"
     ]
    },
    {
     "name": "stderr",
     "output_type": "stream",
     "text": [
      "INFO:bdrk:New metrics logged: with x=94, metrics={'Training binary_logloss': 0.2138634462311244, 'Training roc_auc': 0.880984303466318}\n"
     ]
    },
    {
     "name": "stdout",
     "output_type": "stream",
     "text": [
      "New metrics logged: with x=95, metrics={'Training binary_logloss': 0.21387914672578381, 'Training roc_auc': 0.8799705689993459}\n"
     ]
    },
    {
     "name": "stderr",
     "output_type": "stream",
     "text": [
      "INFO:bdrk:New metrics logged: with x=95, metrics={'Training binary_logloss': 0.21387914672578381, 'Training roc_auc': 0.8799705689993459}\n"
     ]
    },
    {
     "name": "stdout",
     "output_type": "stream",
     "text": [
      "New metrics logged: with x=96, metrics={'Training binary_logloss': 0.21375560058564422, 'Training roc_auc': 0.879807063440157}\n"
     ]
    },
    {
     "name": "stderr",
     "output_type": "stream",
     "text": [
      "INFO:bdrk:New metrics logged: with x=96, metrics={'Training binary_logloss': 0.21375560058564422, 'Training roc_auc': 0.879807063440157}\n"
     ]
    },
    {
     "name": "stdout",
     "output_type": "stream",
     "text": [
      "New metrics logged: with x=97, metrics={'Training binary_logloss': 0.2142105806197337, 'Training roc_auc': 0.8792593198168737}\n"
     ]
    },
    {
     "name": "stderr",
     "output_type": "stream",
     "text": [
      "INFO:bdrk:New metrics logged: with x=97, metrics={'Training binary_logloss': 0.2142105806197337, 'Training roc_auc': 0.8792593198168737}\n"
     ]
    },
    {
     "name": "stdout",
     "output_type": "stream",
     "text": [
      "New metrics logged: with x=98, metrics={'Training binary_logloss': 0.21412120284780298, 'Training roc_auc': 0.8780902550686723}\n"
     ]
    },
    {
     "name": "stderr",
     "output_type": "stream",
     "text": [
      "INFO:bdrk:New metrics logged: with x=98, metrics={'Training binary_logloss': 0.21412120284780298, 'Training roc_auc': 0.8780902550686723}\n"
     ]
    },
    {
     "name": "stdout",
     "output_type": "stream",
     "text": [
      "New metrics logged: with x=99, metrics={'Training binary_logloss': 0.21410694730793056, 'Training roc_auc': 0.8780902550686722}\n"
     ]
    },
    {
     "name": "stderr",
     "output_type": "stream",
     "text": [
      "INFO:bdrk:New metrics logged: with x=99, metrics={'Training binary_logloss': 0.21410694730793056, 'Training roc_auc': 0.8780902550686722}\n"
     ]
    },
    {
     "name": "stdout",
     "output_type": "stream",
     "text": [
      "New metrics logged: with x=0, metrics={'Accuracy': 0.9580838323353293, 'Precision': 0.9047619047619048, 'Recall': 0.7916666666666666, 'F1 score': 0.8444444444444444, 'Roc auc': 0.8888403263403263, 'Avg precision': 0.7462099610303203}\n"
     ]
    },
    {
     "name": "stderr",
     "output_type": "stream",
     "text": [
      "INFO:bdrk:New metrics logged: with x=0, metrics={'Accuracy': 0.9580838323353293, 'Precision': 0.9047619047619048, 'Recall': 0.7916666666666666, 'F1 score': 0.8444444444444444, 'Roc auc': 0.8888403263403263, 'Avg precision': 0.7462099610303203}\n"
     ]
    },
    {
     "name": "stdout",
     "output_type": "stream",
     "text": [
      "Confusion matrix logged\n"
     ]
    },
    {
     "name": "stderr",
     "output_type": "stream",
     "text": [
      "INFO:bdrk:Confusion matrix logged\n"
     ]
    },
    {
     "name": "stdout",
     "output_type": "stream",
     "text": [
      "Model logged: data/lgb_model.pkl\n"
     ]
    },
    {
     "name": "stderr",
     "output_type": "stream",
     "text": [
      "INFO:bdrk:Model logged: data/lgb_model.pkl\n"
     ]
    },
    {
     "name": "stdout",
     "output_type": "stream",
     "text": [
      "Run Failed: nglinh-new-pipeline-run15\n"
     ]
    },
    {
     "name": "stderr",
     "output_type": "stream",
     "text": [
      "INFO:bdrk:Run Failed: nglinh-new-pipeline-run15\n"
     ]
    },
    {
     "name": "stdout",
     "output_type": "stream",
     "text": [
      "Run exitted\n"
     ]
    },
    {
     "name": "stderr",
     "output_type": "stream",
     "text": [
      "INFO:bdrk:Run exitted\n"
     ]
    },
    {
     "ename": "ApiException",
     "evalue": "(401)\nReason: Unauthorized\nHTTP response headers: HTTPHeaderDict({'Content-Length': '83', 'Content-Security-Policy': \"default-src 'self';\", 'Content-Type': 'application/json; charset=utf-8', 'Date': 'Thu, 10 Dec 2020 09:17:40 GMT', 'Feature-Policy': \"camera 'none';geolocation 'none';microphone 'none';usb 'none'\", 'Referrer-Policy': 'strict-origin', 'Server': 'https://www.basis-ai.com', 'Strict-Transport-Security': 'max-age=315360000', 'Vary': 'Accept-Encoding', 'X-Content-Type-Options': 'nosniff', 'X-Frame-Options': 'DENY', 'X-Xss-Protection': '1; mode=block'})\nHTTP response body: {\"object\": \"error\", \"code\": \"invalid_token_error\", \"message\": \"API token invalid.\"}\n",
     "output_type": "error",
     "traceback": [
      "\u001b[0;31m---------------------------------------------------------------------------\u001b[0m",
      "\u001b[0;31mApiException\u001b[0m                              Traceback (most recent call last)",
      "\u001b[0;32m<ipython-input-31-aea10703b2c2>\u001b[0m in \u001b[0;36m<module>\u001b[0;34m\u001b[0m\n\u001b[1;32m     57\u001b[0m     \u001b[0manalyzer\u001b[0m\u001b[0;34m.\u001b[0m\u001b[0mstored_sample_limit\u001b[0m\u001b[0;34m(\u001b[0m\u001b[0msample_limit\u001b[0m\u001b[0;34m=\u001b[0m\u001b[0;32mNone\u001b[0m\u001b[0;34m)\u001b[0m  \u001b[0;31m# To output all SHAP values for the test data\u001b[0m\u001b[0;34m\u001b[0m\u001b[0;34m\u001b[0m\u001b[0m\n\u001b[1;32m     58\u001b[0m \u001b[0;34m\u001b[0m\u001b[0m\n\u001b[0;32m---> 59\u001b[0;31m     \u001b[0;34m(\u001b[0m\u001b[0mshap_values\u001b[0m\u001b[0;34m,\u001b[0m \u001b[0mbase_values\u001b[0m\u001b[0;34m,\u001b[0m \u001b[0mglobal_xai_data\u001b[0m\u001b[0;34m,\u001b[0m \u001b[0mfairness_metrics\u001b[0m\u001b[0;34m)\u001b[0m \u001b[0;34m=\u001b[0m \u001b[0manalyzer\u001b[0m\u001b[0;34m.\u001b[0m\u001b[0manalyze\u001b[0m\u001b[0;34m(\u001b[0m\u001b[0;34m)\u001b[0m\u001b[0;34m\u001b[0m\u001b[0;34m\u001b[0m\u001b[0m\n\u001b[0m",
      "\u001b[0;32m~/Dev/churn_prediction/venv/lib/python3.8/site-packages/bdrk/model_analyzer/model_analyzer.py\u001b[0m in \u001b[0;36manalyze\u001b[0;34m(self)\u001b[0m\n\u001b[1;32m    154\u001b[0m         \"\"\"\n\u001b[1;32m    155\u001b[0m         \u001b[0;31m# Capture model's general info\u001b[0m\u001b[0;34m\u001b[0m\u001b[0;34m\u001b[0m\u001b[0;34m\u001b[0m\u001b[0m\n\u001b[0;32m--> 156\u001b[0;31m         \u001b[0mself\u001b[0m\u001b[0;34m.\u001b[0m\u001b[0m_log_model_info\u001b[0m\u001b[0;34m(\u001b[0m\u001b[0;34m)\u001b[0m\u001b[0;34m\u001b[0m\u001b[0;34m\u001b[0m\u001b[0m\n\u001b[0m\u001b[1;32m    157\u001b[0m \u001b[0;34m\u001b[0m\u001b[0m\n\u001b[1;32m    158\u001b[0m         \u001b[0;31m# TODO: use metrics collector to collect distribution\u001b[0m\u001b[0;34m\u001b[0m\u001b[0;34m\u001b[0m\u001b[0;34m\u001b[0m\u001b[0m\n",
      "\u001b[0;32m~/Dev/churn_prediction/venv/lib/python3.8/site-packages/bdrk/model_analyzer/model_analyzer.py\u001b[0m in \u001b[0;36m_log_model_info\u001b[0;34m(self)\u001b[0m\n\u001b[1;32m    216\u001b[0m         \u001b[0;32mif\u001b[0m \u001b[0mself\u001b[0m\u001b[0;34m.\u001b[0m\u001b[0mapi\u001b[0m\u001b[0;34m.\u001b[0m\u001b[0mhas_api_settings\u001b[0m\u001b[0;34m:\u001b[0m\u001b[0;34m\u001b[0m\u001b[0;34m\u001b[0m\u001b[0m\n\u001b[1;32m    217\u001b[0m             self._log_data(\n\u001b[0;32m--> 218\u001b[0;31m                 \u001b[0mself\u001b[0m\u001b[0;34m.\u001b[0m\u001b[0mapi\u001b[0m\u001b[0;34m.\u001b[0m\u001b[0minternal_api\u001b[0m\u001b[0;34m.\u001b[0m\u001b[0mget_model_info_upload_url\u001b[0m\u001b[0;34m(\u001b[0m\u001b[0;34m)\u001b[0m\u001b[0;34m,\u001b[0m \u001b[0moutput\u001b[0m\u001b[0;34m,\u001b[0m\u001b[0;34m\u001b[0m\u001b[0;34m\u001b[0m\u001b[0m\n\u001b[0m\u001b[1;32m    219\u001b[0m             )\n\u001b[1;32m    220\u001b[0m         \u001b[0;32mreturn\u001b[0m \u001b[0moutput\u001b[0m\u001b[0;34m\u001b[0m\u001b[0;34m\u001b[0m\u001b[0m\n",
      "\u001b[0;32m~/Dev/churn_prediction/venv/lib/python3.8/site-packages/bdrk/backend/v1/api/internal_api.py\u001b[0m in \u001b[0;36mget_model_info_upload_url\u001b[0;34m(self, **kwargs)\u001b[0m\n\u001b[1;32m    459\u001b[0m         \"\"\"\n\u001b[1;32m    460\u001b[0m         \u001b[0mkwargs\u001b[0m\u001b[0;34m[\u001b[0m\u001b[0;34m'_return_http_data_only'\u001b[0m\u001b[0;34m]\u001b[0m \u001b[0;34m=\u001b[0m \u001b[0;32mTrue\u001b[0m\u001b[0;34m\u001b[0m\u001b[0;34m\u001b[0m\u001b[0m\n\u001b[0;32m--> 461\u001b[0;31m         \u001b[0;32mreturn\u001b[0m \u001b[0mself\u001b[0m\u001b[0;34m.\u001b[0m\u001b[0mget_model_info_upload_url_with_http_info\u001b[0m\u001b[0;34m(\u001b[0m\u001b[0;34m**\u001b[0m\u001b[0mkwargs\u001b[0m\u001b[0;34m)\u001b[0m  \u001b[0;31m# noqa: E501\u001b[0m\u001b[0;34m\u001b[0m\u001b[0;34m\u001b[0m\u001b[0m\n\u001b[0m\u001b[1;32m    462\u001b[0m \u001b[0;34m\u001b[0m\u001b[0m\n\u001b[1;32m    463\u001b[0m     \u001b[0;32mdef\u001b[0m \u001b[0mget_model_info_upload_url_with_http_info\u001b[0m\u001b[0;34m(\u001b[0m\u001b[0mself\u001b[0m\u001b[0;34m,\u001b[0m \u001b[0;34m**\u001b[0m\u001b[0mkwargs\u001b[0m\u001b[0;34m)\u001b[0m\u001b[0;34m:\u001b[0m  \u001b[0;31m# noqa: E501\u001b[0m\u001b[0;34m\u001b[0m\u001b[0;34m\u001b[0m\u001b[0m\n",
      "\u001b[0;32m~/Dev/churn_prediction/venv/lib/python3.8/site-packages/bdrk/backend/v1/api/internal_api.py\u001b[0m in \u001b[0;36mget_model_info_upload_url_with_http_info\u001b[0;34m(self, **kwargs)\u001b[0m\n\u001b[1;32m    521\u001b[0m         \u001b[0mauth_settings\u001b[0m \u001b[0;34m=\u001b[0m \u001b[0;34m[\u001b[0m\u001b[0;34m'InternalTokenAuth'\u001b[0m\u001b[0;34m]\u001b[0m  \u001b[0;31m# noqa: E501\u001b[0m\u001b[0;34m\u001b[0m\u001b[0;34m\u001b[0m\u001b[0m\n\u001b[1;32m    522\u001b[0m \u001b[0;34m\u001b[0m\u001b[0m\n\u001b[0;32m--> 523\u001b[0;31m         return self.api_client.call_api(\n\u001b[0m\u001b[1;32m    524\u001b[0m             \u001b[0;34m'/internal/run/model_info/upload_url'\u001b[0m\u001b[0;34m,\u001b[0m \u001b[0;34m'GET'\u001b[0m\u001b[0;34m,\u001b[0m\u001b[0;34m\u001b[0m\u001b[0;34m\u001b[0m\u001b[0m\n\u001b[1;32m    525\u001b[0m             \u001b[0mpath_params\u001b[0m\u001b[0;34m,\u001b[0m\u001b[0;34m\u001b[0m\u001b[0;34m\u001b[0m\u001b[0m\n",
      "\u001b[0;32m~/Dev/churn_prediction/venv/lib/python3.8/site-packages/bdrk/backend/v1/api_client.py\u001b[0m in \u001b[0;36mcall_api\u001b[0;34m(self, resource_path, method, path_params, query_params, header_params, body, post_params, files, response_type, auth_settings, async_req, _return_http_data_only, collection_formats, _preload_content, _request_timeout, _host)\u001b[0m\n\u001b[1;32m    335\u001b[0m         \"\"\"\n\u001b[1;32m    336\u001b[0m         \u001b[0;32mif\u001b[0m \u001b[0;32mnot\u001b[0m \u001b[0masync_req\u001b[0m\u001b[0;34m:\u001b[0m\u001b[0;34m\u001b[0m\u001b[0;34m\u001b[0m\u001b[0m\n\u001b[0;32m--> 337\u001b[0;31m             return self.__call_api(resource_path, method,\n\u001b[0m\u001b[1;32m    338\u001b[0m                                    \u001b[0mpath_params\u001b[0m\u001b[0;34m,\u001b[0m \u001b[0mquery_params\u001b[0m\u001b[0;34m,\u001b[0m \u001b[0mheader_params\u001b[0m\u001b[0;34m,\u001b[0m\u001b[0;34m\u001b[0m\u001b[0;34m\u001b[0m\u001b[0m\n\u001b[1;32m    339\u001b[0m                                    \u001b[0mbody\u001b[0m\u001b[0;34m,\u001b[0m \u001b[0mpost_params\u001b[0m\u001b[0;34m,\u001b[0m \u001b[0mfiles\u001b[0m\u001b[0;34m,\u001b[0m\u001b[0;34m\u001b[0m\u001b[0;34m\u001b[0m\u001b[0m\n",
      "\u001b[0;32m~/Dev/churn_prediction/venv/lib/python3.8/site-packages/bdrk/backend/v1/api_client.py\u001b[0m in \u001b[0;36m__call_api\u001b[0;34m(self, resource_path, method, path_params, query_params, header_params, body, post_params, files, response_type, auth_settings, _return_http_data_only, collection_formats, _preload_content, _request_timeout, _host)\u001b[0m\n\u001b[1;32m    166\u001b[0m \u001b[0;34m\u001b[0m\u001b[0m\n\u001b[1;32m    167\u001b[0m         \u001b[0;31m# perform request and return response\u001b[0m\u001b[0;34m\u001b[0m\u001b[0;34m\u001b[0m\u001b[0;34m\u001b[0m\u001b[0m\n\u001b[0;32m--> 168\u001b[0;31m         response_data = self.request(\n\u001b[0m\u001b[1;32m    169\u001b[0m             \u001b[0mmethod\u001b[0m\u001b[0;34m,\u001b[0m \u001b[0murl\u001b[0m\u001b[0;34m,\u001b[0m \u001b[0mquery_params\u001b[0m\u001b[0;34m=\u001b[0m\u001b[0mquery_params\u001b[0m\u001b[0;34m,\u001b[0m \u001b[0mheaders\u001b[0m\u001b[0;34m=\u001b[0m\u001b[0mheader_params\u001b[0m\u001b[0;34m,\u001b[0m\u001b[0;34m\u001b[0m\u001b[0;34m\u001b[0m\u001b[0m\n\u001b[1;32m    170\u001b[0m             \u001b[0mpost_params\u001b[0m\u001b[0;34m=\u001b[0m\u001b[0mpost_params\u001b[0m\u001b[0;34m,\u001b[0m \u001b[0mbody\u001b[0m\u001b[0;34m=\u001b[0m\u001b[0mbody\u001b[0m\u001b[0;34m,\u001b[0m\u001b[0;34m\u001b[0m\u001b[0;34m\u001b[0m\u001b[0m\n",
      "\u001b[0;32m~/Dev/churn_prediction/venv/lib/python3.8/site-packages/bdrk/backend/v1/api_client.py\u001b[0m in \u001b[0;36mrequest\u001b[0;34m(self, method, url, query_params, headers, post_params, body, _preload_content, _request_timeout)\u001b[0m\n\u001b[1;32m    359\u001b[0m         \u001b[0;34m\"\"\"Makes the HTTP request using RESTClient.\"\"\"\u001b[0m\u001b[0;34m\u001b[0m\u001b[0;34m\u001b[0m\u001b[0m\n\u001b[1;32m    360\u001b[0m         \u001b[0;32mif\u001b[0m \u001b[0mmethod\u001b[0m \u001b[0;34m==\u001b[0m \u001b[0;34m\"GET\"\u001b[0m\u001b[0;34m:\u001b[0m\u001b[0;34m\u001b[0m\u001b[0;34m\u001b[0m\u001b[0m\n\u001b[0;32m--> 361\u001b[0;31m             return self.rest_client.GET(url,\n\u001b[0m\u001b[1;32m    362\u001b[0m                                         \u001b[0mquery_params\u001b[0m\u001b[0;34m=\u001b[0m\u001b[0mquery_params\u001b[0m\u001b[0;34m,\u001b[0m\u001b[0;34m\u001b[0m\u001b[0;34m\u001b[0m\u001b[0m\n\u001b[1;32m    363\u001b[0m                                         \u001b[0m_preload_content\u001b[0m\u001b[0;34m=\u001b[0m\u001b[0m_preload_content\u001b[0m\u001b[0;34m,\u001b[0m\u001b[0;34m\u001b[0m\u001b[0;34m\u001b[0m\u001b[0m\n",
      "\u001b[0;32m~/Dev/churn_prediction/venv/lib/python3.8/site-packages/bdrk/backend/v1/rest.py\u001b[0m in \u001b[0;36mGET\u001b[0;34m(self, url, headers, query_params, _preload_content, _request_timeout)\u001b[0m\n\u001b[1;32m    233\u001b[0m     def GET(self, url, headers=None, query_params=None, _preload_content=True,\n\u001b[1;32m    234\u001b[0m             _request_timeout=None):\n\u001b[0;32m--> 235\u001b[0;31m         return self.request(\"GET\", url,\n\u001b[0m\u001b[1;32m    236\u001b[0m                             \u001b[0mheaders\u001b[0m\u001b[0;34m=\u001b[0m\u001b[0mheaders\u001b[0m\u001b[0;34m,\u001b[0m\u001b[0;34m\u001b[0m\u001b[0;34m\u001b[0m\u001b[0m\n\u001b[1;32m    237\u001b[0m                             \u001b[0m_preload_content\u001b[0m\u001b[0;34m=\u001b[0m\u001b[0m_preload_content\u001b[0m\u001b[0;34m,\u001b[0m\u001b[0;34m\u001b[0m\u001b[0;34m\u001b[0m\u001b[0m\n",
      "\u001b[0;32m~/Dev/churn_prediction/venv/lib/python3.8/site-packages/bdrk/backend/v1/rest.py\u001b[0m in \u001b[0;36mrequest\u001b[0;34m(self, method, url, query_params, headers, body, post_params, _preload_content, _request_timeout)\u001b[0m\n\u001b[1;32m    227\u001b[0m \u001b[0;34m\u001b[0m\u001b[0m\n\u001b[1;32m    228\u001b[0m         \u001b[0;32mif\u001b[0m \u001b[0;32mnot\u001b[0m \u001b[0;36m200\u001b[0m \u001b[0;34m<=\u001b[0m \u001b[0mr\u001b[0m\u001b[0;34m.\u001b[0m\u001b[0mstatus\u001b[0m \u001b[0;34m<=\u001b[0m \u001b[0;36m299\u001b[0m\u001b[0;34m:\u001b[0m\u001b[0;34m\u001b[0m\u001b[0;34m\u001b[0m\u001b[0m\n\u001b[0;32m--> 229\u001b[0;31m             \u001b[0;32mraise\u001b[0m \u001b[0mApiException\u001b[0m\u001b[0;34m(\u001b[0m\u001b[0mhttp_resp\u001b[0m\u001b[0;34m=\u001b[0m\u001b[0mr\u001b[0m\u001b[0;34m)\u001b[0m\u001b[0;34m\u001b[0m\u001b[0;34m\u001b[0m\u001b[0m\n\u001b[0m\u001b[1;32m    230\u001b[0m \u001b[0;34m\u001b[0m\u001b[0m\n\u001b[1;32m    231\u001b[0m         \u001b[0;32mreturn\u001b[0m \u001b[0mr\u001b[0m\u001b[0;34m\u001b[0m\u001b[0;34m\u001b[0m\u001b[0m\n",
      "\u001b[0;31mApiException\u001b[0m: (401)\nReason: Unauthorized\nHTTP response headers: HTTPHeaderDict({'Content-Length': '83', 'Content-Security-Policy': \"default-src 'self';\", 'Content-Type': 'application/json; charset=utf-8', 'Date': 'Thu, 10 Dec 2020 09:17:40 GMT', 'Feature-Policy': \"camera 'none';geolocation 'none';microphone 'none';usb 'none'\", 'Referrer-Policy': 'strict-origin', 'Server': 'https://www.basis-ai.com', 'Strict-Transport-Security': 'max-age=315360000', 'Vary': 'Accept-Encoding', 'X-Content-Type-Options': 'nosniff', 'X-Frame-Options': 'DENY', 'X-Xss-Protection': '1; mode=block'})\nHTTP response body: {\"object\": \"error\", \"code\": \"invalid_token_error\", \"message\": \"API token invalid.\"}\n"
     ]
    }
   ],
   "source": [
    "# Initialize the project\n",
    "bdrk.init(project_id=\"nglinh-churn-prediction\")\n",
    "\n",
    "with bdrk.start_run(pipeline_id=\"nglinh-new-pipeline\", environment_id=\"playground-production\"):\n",
    "    # Log related parameters\n",
    "    bdrk.log_params({\"LR\": LR, \"NUM_LEAVES\": NUM_LEAVES, \"N_ESTIMATORS\": N_ESTIMATORS})\n",
    "    \n",
    "    \n",
    "    clf = lgb.LGBMClassifier(num_leaves=NUM_LEAVES, learning_rate=LR, n_estimators=N_ESTIMATORS)\n",
    "    \n",
    "    # Log a single metric\n",
    "    bdrk.log_metric(key=\"Feature Count\", value=len(FEATURE_COLS))\n",
    "    \n",
    "    clf.fit(\n",
    "        X_train,\n",
    "        y_train,\n",
    "        eval_set=[(X_val, y_val)],\n",
    "        eval_metric=lgb_roc_auc_score,\n",
    "        verbose=False,\n",
    "    )\n",
    "    \n",
    "    # Log metrics for each training step\n",
    "    evals = clf.evals_result_[\"valid_0\"]\n",
    "    for iteration in range(N_ESTIMATORS):\n",
    "        bdrk.log_metrics(metrics={\n",
    "            \"Training binary_logloss\": evals[\"binary_logloss\"][iteration],\n",
    "            \"Training roc_auc\": evals[\"roc_auc\"][iteration]\n",
    "        }, x=iteration)\n",
    "        \n",
    "\n",
    "    y_probs = clf.predict_proba(X_test)[:,1]\n",
    "        \n",
    "    \n",
    "    # Log final metrics in batch\n",
    "    y_pred = (y_probs > 0.5).astype(int)\n",
    "    bdrk.log_metrics(metrics={\n",
    "        \"Accuracy\": metrics.accuracy_score(y_test, y_pred),\n",
    "        \"Precision\": metrics.precision_score(y_test, y_pred),\n",
    "        \"Recall\": metrics.recall_score(y_test, y_pred),\n",
    "        \"F1 score\": metrics.f1_score(y_test, y_pred),\n",
    "        \"Roc auc\": metrics.roc_auc_score(y_test, y_pred),\n",
    "        \"Avg precision\": metrics.average_precision_score(y_test, y_pred),\n",
    "    })\n",
    "    \n",
    "    # Log the binary classifier from the predicted data\n",
    "    bdrk.log_binary_classifier_metrics(actual=y_test, probability=y_probs)\n",
    "\n",
    "    # Saving and log the model\n",
    "    with open(OUTPUT_MODEL, \"wb\") as model_file:\n",
    "        pickle.dump(clf, model_file)\n",
    "    bdrk.log_model(OUTPUT_MODEL)\n"
   ]
  },
  {
   "cell_type": "code",
   "execution_count": null,
   "metadata": {},
   "outputs": [],
   "source": [
    "print_results(y_test, y_probs)"
   ]
  }
 ],
 "metadata": {
  "kernelspec": {
   "display_name": "Python 3",
   "language": "python",
   "name": "python3"
  },
  "language_info": {
   "codemirror_mode": {
    "name": "ipython",
    "version": 3
   },
   "file_extension": ".py",
   "mimetype": "text/x-python",
   "name": "python",
   "nbconvert_exporter": "python",
   "pygments_lexer": "ipython3",
   "version": "3.8.5"
  }
 },
 "nbformat": 4,
 "nbformat_minor": 4
}
